{
 "cells": [
  {
   "cell_type": "markdown",
   "id": "de363a23",
   "metadata": {},
   "source": [
    "# 1. Fetch Cuisine's sluggish data prep"
   ]
  },
  {
   "cell_type": "code",
   "execution_count": 1,
   "id": "50498665",
   "metadata": {},
   "outputs": [],
   "source": [
    "from urllib.request import urlretrieve\n",
    "import pandas as pd\n",
    "\n",
    "madden_url = \"https://ac-101708228-virtuoso-prod.s3.amazonaws.com/uploads/download/112/Madden_s_Dairy.csv\"\n",
    "nell_url = \"https://ac-101708228-virtuoso-prod.s3.amazonaws.com/uploads/download/113/Nell_s_Soups_and_Stocks.csv\"\n",
    "clerkin_url = \"https://ac-101708228-virtuoso-prod.s3.amazonaws.com/uploads/download/114/Clerkin_Nuts_and_Grains.csv\"\n",
    "mahon_url = \"https://ac-101708228-virtuoso-prod.s3.amazonaws.com/uploads/download/115/Mahon_Produce.csv\"\n",
    "nutley_url = \"https://ac-101708228-virtuoso-prod.s3.amazonaws.com/uploads/download/116/Nutley_Fish_and_Seafood.csv\"\n",
    "foley_url = \"https://ac-101708228-virtuoso-prod.s3.amazonaws.com/uploads/download/117/Foley_s_Butchers.csv\"\n",
    "tolsco_url = \"https://ac-101708228-virtuoso-prod.s3.amazonaws.com/uploads/download/118/Tolsco_Foods.csv\""
   ]
  },
  {
   "cell_type": "markdown",
   "id": "577b8ed3",
   "metadata": {},
   "source": [
    "# 2. Connect to and merge online nutrional data"
   ]
  },
  {
   "cell_type": "code",
   "execution_count": 2,
   "id": "25694530",
   "metadata": {},
   "outputs": [
    {
     "data": {
      "text/html": [
       "<div>\n",
       "<style scoped>\n",
       "    .dataframe tbody tr th:only-of-type {\n",
       "        vertical-align: middle;\n",
       "    }\n",
       "\n",
       "    .dataframe tbody tr th {\n",
       "        vertical-align: top;\n",
       "    }\n",
       "\n",
       "    .dataframe thead th {\n",
       "        text-align: right;\n",
       "    }\n",
       "</style>\n",
       "<table border=\"1\" class=\"dataframe\">\n",
       "  <thead>\n",
       "    <tr style=\"text-align: right;\">\n",
       "      <th></th>\n",
       "      <th>Food</th>\n",
       "      <th>Food Type</th>\n",
       "      <th>Calories</th>\n",
       "      <th>Grams</th>\n",
       "      <th>Protein</th>\n",
       "      <th>Fat</th>\n",
       "      <th>Fiber</th>\n",
       "      <th>Carbs</th>\n",
       "    </tr>\n",
       "  </thead>\n",
       "  <tbody>\n",
       "    <tr>\n",
       "      <th>0</th>\n",
       "      <td>Cows' milk</td>\n",
       "      <td>Dairy</td>\n",
       "      <td>kcal:680</td>\n",
       "      <td>g:120</td>\n",
       "      <td>32.0</td>\n",
       "      <td>40.0</td>\n",
       "      <td>0.0</td>\n",
       "      <td>48.0</td>\n",
       "    </tr>\n",
       "    <tr>\n",
       "      <th>1</th>\n",
       "      <td>Milk skim</td>\n",
       "      <td>Dairy</td>\n",
       "      <td>kcal:352</td>\n",
       "      <td>g:88</td>\n",
       "      <td>36.0</td>\n",
       "      <td>0.0</td>\n",
       "      <td>0.0</td>\n",
       "      <td>52.0</td>\n",
       "    </tr>\n",
       "    <tr>\n",
       "      <th>2</th>\n",
       "      <td>Buttermilk</td>\n",
       "      <td>Dairy</td>\n",
       "      <td>kcal:133</td>\n",
       "      <td>g:27</td>\n",
       "      <td>9.0</td>\n",
       "      <td>5.0</td>\n",
       "      <td>0.0</td>\n",
       "      <td>13.0</td>\n",
       "    </tr>\n",
       "    <tr>\n",
       "      <th>3</th>\n",
       "      <td>Evaporated, undiluted</td>\n",
       "      <td>Dairy</td>\n",
       "      <td>kcal:340</td>\n",
       "      <td>g:60</td>\n",
       "      <td>16.0</td>\n",
       "      <td>20.0</td>\n",
       "      <td>0.0</td>\n",
       "      <td>24.0</td>\n",
       "    </tr>\n",
       "    <tr>\n",
       "      <th>4</th>\n",
       "      <td>Fortified milk</td>\n",
       "      <td>Dairy</td>\n",
       "      <td>kcal:1215.6</td>\n",
       "      <td>g:251.4</td>\n",
       "      <td>89.0</td>\n",
       "      <td>42.0</td>\n",
       "      <td>1.4</td>\n",
       "      <td>119.0</td>\n",
       "    </tr>\n",
       "    <tr>\n",
       "      <th>...</th>\n",
       "      <td>...</td>\n",
       "      <td>...</td>\n",
       "      <td>...</td>\n",
       "      <td>...</td>\n",
       "      <td>...</td>\n",
       "      <td>...</td>\n",
       "      <td>...</td>\n",
       "      <td>...</td>\n",
       "    </tr>\n",
       "    <tr>\n",
       "      <th>239</th>\n",
       "      <td>Lard</td>\n",
       "      <td>Oils &amp; Fats</td>\n",
       "      <td>kcal:990</td>\n",
       "      <td>g:1100</td>\n",
       "      <td>0.0</td>\n",
       "      <td>110.0</td>\n",
       "      <td>0.0</td>\n",
       "      <td>0.0</td>\n",
       "    </tr>\n",
       "    <tr>\n",
       "      <th>240</th>\n",
       "      <td>Margarine, 2 pat or</td>\n",
       "      <td>Oils &amp; Fats</td>\n",
       "      <td>kcal:99</td>\n",
       "      <td>g:11</td>\n",
       "      <td>0.0</td>\n",
       "      <td>11.0</td>\n",
       "      <td>0.0</td>\n",
       "      <td>0.0</td>\n",
       "    </tr>\n",
       "    <tr>\n",
       "      <th>241</th>\n",
       "      <td>Corn oil</td>\n",
       "      <td>Oils &amp; Fats</td>\n",
       "      <td>kcal:126</td>\n",
       "      <td>g:14</td>\n",
       "      <td>0.0</td>\n",
       "      <td>14.0</td>\n",
       "      <td>0.0</td>\n",
       "      <td>0.0</td>\n",
       "    </tr>\n",
       "    <tr>\n",
       "      <th>242</th>\n",
       "      <td>Olive oil</td>\n",
       "      <td>Oil &amp; Fats</td>\n",
       "      <td>kcal:126</td>\n",
       "      <td>g:14</td>\n",
       "      <td>0.0</td>\n",
       "      <td>14.0</td>\n",
       "      <td>0.0</td>\n",
       "      <td>0.0</td>\n",
       "    </tr>\n",
       "    <tr>\n",
       "      <th>243</th>\n",
       "      <td>Safflower seed oil</td>\n",
       "      <td>Oils &amp; Fats</td>\n",
       "      <td>kcal:126</td>\n",
       "      <td>g:14</td>\n",
       "      <td>0.0</td>\n",
       "      <td>14.0</td>\n",
       "      <td>0.0</td>\n",
       "      <td>0.0</td>\n",
       "    </tr>\n",
       "  </tbody>\n",
       "</table>\n",
       "<p>244 rows × 8 columns</p>\n",
       "</div>"
      ],
      "text/plain": [
       "                      Food    Food Type     Calories    Grams  Protein    Fat  \\\n",
       "0               Cows' milk        Dairy     kcal:680    g:120     32.0   40.0   \n",
       "1                Milk skim        Dairy     kcal:352     g:88     36.0    0.0   \n",
       "2               Buttermilk        Dairy     kcal:133     g:27      9.0    5.0   \n",
       "3    Evaporated, undiluted        Dairy     kcal:340     g:60     16.0   20.0   \n",
       "4           Fortified milk        Dairy  kcal:1215.6  g:251.4     89.0   42.0   \n",
       "..                     ...          ...          ...      ...      ...    ...   \n",
       "239                   Lard  Oils & Fats     kcal:990   g:1100      0.0  110.0   \n",
       "240    Margarine, 2 pat or  Oils & Fats      kcal:99     g:11      0.0   11.0   \n",
       "241               Corn oil  Oils & Fats     kcal:126     g:14      0.0   14.0   \n",
       "242              Olive oil   Oil & Fats     kcal:126     g:14      0.0   14.0   \n",
       "243     Safflower seed oil  Oils & Fats     kcal:126     g:14      0.0   14.0   \n",
       "\n",
       "     Fiber  Carbs  \n",
       "0      0.0   48.0  \n",
       "1      0.0   52.0  \n",
       "2      0.0   13.0  \n",
       "3      0.0   24.0  \n",
       "4      1.4  119.0  \n",
       "..     ...    ...  \n",
       "239    0.0    0.0  \n",
       "240    0.0    0.0  \n",
       "241    0.0    0.0  \n",
       "242    0.0    0.0  \n",
       "243    0.0    0.0  \n",
       "\n",
       "[244 rows x 8 columns]"
      ]
     },
     "execution_count": 2,
     "metadata": {},
     "output_type": "execute_result"
    }
   ],
   "source": [
    "urlretrieve(madden_url, \"Madden_s_Dairy.csv\")\n",
    "urlretrieve(nell_url, \"Nell_s_Soups_and_Stocks.csv\")\n",
    "urlretrieve(clerkin_url, \"Clerkin_Nuts_and_Grains.csv\")\n",
    "urlretrieve(mahon_url, \"Mahon_Produce.csv\")\n",
    "urlretrieve(nutley_url, \"Nutley_Fish_and_Seafood.csv\")\n",
    "urlretrieve(foley_url, \"Foley_s_Butchers.csv\")\n",
    "urlretrieve(tolsco_url, \"Tolsco_Foods.csv\")\n",
    "\n",
    "madden = pd.read_csv(\"Madden_s_Dairy.csv\",)\n",
    "nell = pd.read_csv(\"Nell_s_Soups_and_Stocks.csv\")\n",
    "clerkin = pd.read_csv(\"Clerkin_Nuts_and_Grains.csv\")\n",
    "mahon = pd.read_csv(\"Mahon_Produce.csv\")\n",
    "nutley = pd.read_csv(\"Nutley_Fish_and_Seafood.csv\")\n",
    "foley = pd.read_csv(\"Foley_s_Butchers.csv\")\n",
    "tolsco = pd.read_csv(\"Tolsco_Foods.csv\")\n",
    "\n",
    "food=pd.concat([madden,nell,clerkin,mahon,nutley,foley,tolsco])\n",
    "food.reset_index(inplace=True,drop=True)\n",
    "food"
   ]
  },
  {
   "cell_type": "code",
   "execution_count": 3,
   "id": "f36eaee9",
   "metadata": {},
   "outputs": [
    {
     "data": {
      "text/plain": [
       "1930.0"
      ]
     },
     "execution_count": 3,
     "metadata": {},
     "output_type": "execute_result"
    }
   ],
   "source": [
    "food[\"Protein\"].sum()"
   ]
  },
  {
   "cell_type": "markdown",
   "id": "d6f3d781",
   "metadata": {},
   "source": [
    "# 3. Address data type errors"
   ]
  },
  {
   "cell_type": "code",
   "execution_count": 4,
   "id": "adee1cc4",
   "metadata": {
    "scrolled": true
   },
   "outputs": [
    {
     "data": {
      "text/html": [
       "<div>\n",
       "<style scoped>\n",
       "    .dataframe tbody tr th:only-of-type {\n",
       "        vertical-align: middle;\n",
       "    }\n",
       "\n",
       "    .dataframe tbody tr th {\n",
       "        vertical-align: top;\n",
       "    }\n",
       "\n",
       "    .dataframe thead th {\n",
       "        text-align: right;\n",
       "    }\n",
       "</style>\n",
       "<table border=\"1\" class=\"dataframe\">\n",
       "  <thead>\n",
       "    <tr style=\"text-align: right;\">\n",
       "      <th></th>\n",
       "      <th>Food</th>\n",
       "      <th>Food Type</th>\n",
       "      <th>Calories</th>\n",
       "      <th>Grams</th>\n",
       "      <th>Protein</th>\n",
       "      <th>Fat</th>\n",
       "      <th>Fiber</th>\n",
       "      <th>Carbs</th>\n",
       "    </tr>\n",
       "  </thead>\n",
       "  <tbody>\n",
       "    <tr>\n",
       "      <th>0</th>\n",
       "      <td>Cows' milk</td>\n",
       "      <td>Dairy</td>\n",
       "      <td>680.0</td>\n",
       "      <td>120.0</td>\n",
       "      <td>32.0</td>\n",
       "      <td>40.0</td>\n",
       "      <td>0.0</td>\n",
       "      <td>48.0</td>\n",
       "    </tr>\n",
       "    <tr>\n",
       "      <th>1</th>\n",
       "      <td>Milk skim</td>\n",
       "      <td>Dairy</td>\n",
       "      <td>352.0</td>\n",
       "      <td>88.0</td>\n",
       "      <td>36.0</td>\n",
       "      <td>0.0</td>\n",
       "      <td>0.0</td>\n",
       "      <td>52.0</td>\n",
       "    </tr>\n",
       "    <tr>\n",
       "      <th>2</th>\n",
       "      <td>Buttermilk</td>\n",
       "      <td>Dairy</td>\n",
       "      <td>133.0</td>\n",
       "      <td>27.0</td>\n",
       "      <td>9.0</td>\n",
       "      <td>5.0</td>\n",
       "      <td>0.0</td>\n",
       "      <td>13.0</td>\n",
       "    </tr>\n",
       "    <tr>\n",
       "      <th>3</th>\n",
       "      <td>Evaporated, undiluted</td>\n",
       "      <td>Dairy</td>\n",
       "      <td>340.0</td>\n",
       "      <td>60.0</td>\n",
       "      <td>16.0</td>\n",
       "      <td>20.0</td>\n",
       "      <td>0.0</td>\n",
       "      <td>24.0</td>\n",
       "    </tr>\n",
       "    <tr>\n",
       "      <th>4</th>\n",
       "      <td>Fortified milk</td>\n",
       "      <td>Dairy</td>\n",
       "      <td>1215.6</td>\n",
       "      <td>251.4</td>\n",
       "      <td>89.0</td>\n",
       "      <td>42.0</td>\n",
       "      <td>1.4</td>\n",
       "      <td>119.0</td>\n",
       "    </tr>\n",
       "  </tbody>\n",
       "</table>\n",
       "</div>"
      ],
      "text/plain": [
       "                    Food Food Type  Calories  Grams  Protein   Fat  Fiber  \\\n",
       "0             Cows' milk     Dairy     680.0  120.0     32.0  40.0    0.0   \n",
       "1              Milk skim     Dairy     352.0   88.0     36.0   0.0    0.0   \n",
       "2             Buttermilk     Dairy     133.0   27.0      9.0   5.0    0.0   \n",
       "3  Evaporated, undiluted     Dairy     340.0   60.0     16.0  20.0    0.0   \n",
       "4         Fortified milk     Dairy    1215.6  251.4     89.0  42.0    1.4   \n",
       "\n",
       "   Carbs  \n",
       "0   48.0  \n",
       "1   52.0  \n",
       "2   13.0  \n",
       "3   24.0  \n",
       "4  119.0  "
      ]
     },
     "execution_count": 4,
     "metadata": {},
     "output_type": "execute_result"
    }
   ],
   "source": [
    "food[\"Grams\"]=food[\"Grams\"].str.strip(\"g:\").astype(\"float64\")\n",
    "food[\"Calories\"]=food[\"Calories\"].str.strip(\"kcal:\").astype(\"float64\")\n",
    "food.head()"
   ]
  },
  {
   "cell_type": "code",
   "execution_count": 5,
   "id": "fa9f8c62",
   "metadata": {},
   "outputs": [
    {
     "name": "stdout",
     "output_type": "stream",
     "text": [
      "10584.91\n",
      "45035.44\n"
     ]
    }
   ],
   "source": [
    "print(food[\"Grams\"].sum())\n",
    "print(food[\"Calories\"].sum())"
   ]
  },
  {
   "cell_type": "markdown",
   "id": "a25c66d3",
   "metadata": {},
   "source": [
    "# 4. Fix data range errors"
   ]
  },
  {
   "cell_type": "code",
   "execution_count": 6,
   "id": "5e4af67d",
   "metadata": {},
   "outputs": [
    {
     "data": {
      "text/html": [
       "<div>\n",
       "<style scoped>\n",
       "    .dataframe tbody tr th:only-of-type {\n",
       "        vertical-align: middle;\n",
       "    }\n",
       "\n",
       "    .dataframe tbody tr th {\n",
       "        vertical-align: top;\n",
       "    }\n",
       "\n",
       "    .dataframe thead th {\n",
       "        text-align: right;\n",
       "    }\n",
       "</style>\n",
       "<table border=\"1\" class=\"dataframe\">\n",
       "  <thead>\n",
       "    <tr style=\"text-align: right;\">\n",
       "      <th></th>\n",
       "      <th>Food</th>\n",
       "      <th>Food Type</th>\n",
       "      <th>Calories</th>\n",
       "      <th>Grams</th>\n",
       "      <th>Protein</th>\n",
       "      <th>Fat</th>\n",
       "      <th>Fiber</th>\n",
       "      <th>Carbs</th>\n",
       "    </tr>\n",
       "  </thead>\n",
       "  <tbody>\n",
       "    <tr>\n",
       "      <th>239</th>\n",
       "      <td>Lard</td>\n",
       "      <td>Oils &amp; Fats</td>\n",
       "      <td>990.0</td>\n",
       "      <td>1100.0</td>\n",
       "      <td>0.0</td>\n",
       "      <td>110.0</td>\n",
       "      <td>0.0</td>\n",
       "      <td>0.0</td>\n",
       "    </tr>\n",
       "  </tbody>\n",
       "</table>\n",
       "</div>"
      ],
      "text/plain": [
       "     Food    Food Type  Calories   Grams  Protein    Fat  Fiber  Carbs\n",
       "239  Lard  Oils & Fats     990.0  1100.0      0.0  110.0    0.0    0.0"
      ]
     },
     "execution_count": 6,
     "metadata": {},
     "output_type": "execute_result"
    }
   ],
   "source": [
    "food[food[\"Grams\"]>1000]"
   ]
  },
  {
   "cell_type": "code",
   "execution_count": 7,
   "id": "dec1d0ae",
   "metadata": {},
   "outputs": [
    {
     "data": {
      "text/html": [
       "<div>\n",
       "<style scoped>\n",
       "    .dataframe tbody tr th:only-of-type {\n",
       "        vertical-align: middle;\n",
       "    }\n",
       "\n",
       "    .dataframe tbody tr th {\n",
       "        vertical-align: top;\n",
       "    }\n",
       "\n",
       "    .dataframe thead th {\n",
       "        text-align: right;\n",
       "    }\n",
       "</style>\n",
       "<table border=\"1\" class=\"dataframe\">\n",
       "  <thead>\n",
       "    <tr style=\"text-align: right;\">\n",
       "      <th></th>\n",
       "      <th>Food</th>\n",
       "      <th>Food Type</th>\n",
       "      <th>Calories</th>\n",
       "      <th>Grams</th>\n",
       "      <th>Protein</th>\n",
       "      <th>Fat</th>\n",
       "      <th>Fiber</th>\n",
       "      <th>Carbs</th>\n",
       "    </tr>\n",
       "  </thead>\n",
       "  <tbody>\n",
       "  </tbody>\n",
       "</table>\n",
       "</div>"
      ],
      "text/plain": [
       "Empty DataFrame\n",
       "Columns: [Food, Food Type, Calories, Grams, Protein, Fat, Fiber, Carbs]\n",
       "Index: []"
      ]
     },
     "execution_count": 7,
     "metadata": {},
     "output_type": "execute_result"
    }
   ],
   "source": [
    "food[food[\"Grams\"]<0]"
   ]
  },
  {
   "cell_type": "code",
   "execution_count": 8,
   "id": "5074e7e0",
   "metadata": {},
   "outputs": [],
   "source": [
    "food.loc[239,\"Grams\"]=110"
   ]
  },
  {
   "cell_type": "code",
   "execution_count": 9,
   "id": "88c7b348",
   "metadata": {},
   "outputs": [
    {
     "data": {
      "text/html": [
       "<div>\n",
       "<style scoped>\n",
       "    .dataframe tbody tr th:only-of-type {\n",
       "        vertical-align: middle;\n",
       "    }\n",
       "\n",
       "    .dataframe tbody tr th {\n",
       "        vertical-align: top;\n",
       "    }\n",
       "\n",
       "    .dataframe thead th {\n",
       "        text-align: right;\n",
       "    }\n",
       "</style>\n",
       "<table border=\"1\" class=\"dataframe\">\n",
       "  <thead>\n",
       "    <tr style=\"text-align: right;\">\n",
       "      <th></th>\n",
       "      <th>Food</th>\n",
       "      <th>Food Type</th>\n",
       "      <th>Calories</th>\n",
       "      <th>Grams</th>\n",
       "      <th>Protein</th>\n",
       "      <th>Fat</th>\n",
       "      <th>Fiber</th>\n",
       "      <th>Carbs</th>\n",
       "    </tr>\n",
       "  </thead>\n",
       "  <tbody>\n",
       "  </tbody>\n",
       "</table>\n",
       "</div>"
      ],
      "text/plain": [
       "Empty DataFrame\n",
       "Columns: [Food, Food Type, Calories, Grams, Protein, Fat, Fiber, Carbs]\n",
       "Index: []"
      ]
     },
     "execution_count": 9,
     "metadata": {},
     "output_type": "execute_result"
    }
   ],
   "source": [
    "food[food[\"Calories\"]>1500]"
   ]
  },
  {
   "cell_type": "code",
   "execution_count": 10,
   "id": "a5d82403",
   "metadata": {},
   "outputs": [
    {
     "data": {
      "text/html": [
       "<div>\n",
       "<style scoped>\n",
       "    .dataframe tbody tr th:only-of-type {\n",
       "        vertical-align: middle;\n",
       "    }\n",
       "\n",
       "    .dataframe tbody tr th {\n",
       "        vertical-align: top;\n",
       "    }\n",
       "\n",
       "    .dataframe thead th {\n",
       "        text-align: right;\n",
       "    }\n",
       "</style>\n",
       "<table border=\"1\" class=\"dataframe\">\n",
       "  <thead>\n",
       "    <tr style=\"text-align: right;\">\n",
       "      <th></th>\n",
       "      <th>Food</th>\n",
       "      <th>Food Type</th>\n",
       "      <th>Calories</th>\n",
       "      <th>Grams</th>\n",
       "      <th>Protein</th>\n",
       "      <th>Fat</th>\n",
       "      <th>Fiber</th>\n",
       "      <th>Carbs</th>\n",
       "    </tr>\n",
       "  </thead>\n",
       "  <tbody>\n",
       "  </tbody>\n",
       "</table>\n",
       "</div>"
      ],
      "text/plain": [
       "Empty DataFrame\n",
       "Columns: [Food, Food Type, Calories, Grams, Protein, Fat, Fiber, Carbs]\n",
       "Index: []"
      ]
     },
     "execution_count": 10,
     "metadata": {},
     "output_type": "execute_result"
    }
   ],
   "source": [
    "food[food[\"Calories\"]<0]"
   ]
  },
  {
   "cell_type": "code",
   "execution_count": 11,
   "id": "79fc7085",
   "metadata": {},
   "outputs": [
    {
     "data": {
      "text/html": [
       "<div>\n",
       "<style scoped>\n",
       "    .dataframe tbody tr th:only-of-type {\n",
       "        vertical-align: middle;\n",
       "    }\n",
       "\n",
       "    .dataframe tbody tr th {\n",
       "        vertical-align: top;\n",
       "    }\n",
       "\n",
       "    .dataframe thead th {\n",
       "        text-align: right;\n",
       "    }\n",
       "</style>\n",
       "<table border=\"1\" class=\"dataframe\">\n",
       "  <thead>\n",
       "    <tr style=\"text-align: right;\">\n",
       "      <th></th>\n",
       "      <th>Food</th>\n",
       "      <th>Food Type</th>\n",
       "      <th>Calories</th>\n",
       "      <th>Grams</th>\n",
       "      <th>Protein</th>\n",
       "      <th>Fat</th>\n",
       "      <th>Fiber</th>\n",
       "      <th>Carbs</th>\n",
       "    </tr>\n",
       "  </thead>\n",
       "  <tbody>\n",
       "  </tbody>\n",
       "</table>\n",
       "</div>"
      ],
      "text/plain": [
       "Empty DataFrame\n",
       "Columns: [Food, Food Type, Calories, Grams, Protein, Fat, Fiber, Carbs]\n",
       "Index: []"
      ]
     },
     "execution_count": 11,
     "metadata": {},
     "output_type": "execute_result"
    }
   ],
   "source": [
    "food[food[\"Grams\"]>1500]"
   ]
  },
  {
   "cell_type": "code",
   "execution_count": 12,
   "id": "ac42acdc",
   "metadata": {},
   "outputs": [
    {
     "data": {
      "text/html": [
       "<div>\n",
       "<style scoped>\n",
       "    .dataframe tbody tr th:only-of-type {\n",
       "        vertical-align: middle;\n",
       "    }\n",
       "\n",
       "    .dataframe tbody tr th {\n",
       "        vertical-align: top;\n",
       "    }\n",
       "\n",
       "    .dataframe thead th {\n",
       "        text-align: right;\n",
       "    }\n",
       "</style>\n",
       "<table border=\"1\" class=\"dataframe\">\n",
       "  <thead>\n",
       "    <tr style=\"text-align: right;\">\n",
       "      <th></th>\n",
       "      <th>Food</th>\n",
       "      <th>Food Type</th>\n",
       "      <th>Calories</th>\n",
       "      <th>Grams</th>\n",
       "      <th>Protein</th>\n",
       "      <th>Fat</th>\n",
       "      <th>Fiber</th>\n",
       "      <th>Carbs</th>\n",
       "    </tr>\n",
       "  </thead>\n",
       "  <tbody>\n",
       "  </tbody>\n",
       "</table>\n",
       "</div>"
      ],
      "text/plain": [
       "Empty DataFrame\n",
       "Columns: [Food, Food Type, Calories, Grams, Protein, Fat, Fiber, Carbs]\n",
       "Index: []"
      ]
     },
     "execution_count": 12,
     "metadata": {},
     "output_type": "execute_result"
    }
   ],
   "source": [
    "food[food[\"Grams\"]<0]"
   ]
  },
  {
   "cell_type": "code",
   "execution_count": 13,
   "id": "60d6037e",
   "metadata": {},
   "outputs": [
    {
     "data": {
      "text/html": [
       "<div>\n",
       "<style scoped>\n",
       "    .dataframe tbody tr th:only-of-type {\n",
       "        vertical-align: middle;\n",
       "    }\n",
       "\n",
       "    .dataframe tbody tr th {\n",
       "        vertical-align: top;\n",
       "    }\n",
       "\n",
       "    .dataframe thead th {\n",
       "        text-align: right;\n",
       "    }\n",
       "</style>\n",
       "<table border=\"1\" class=\"dataframe\">\n",
       "  <thead>\n",
       "    <tr style=\"text-align: right;\">\n",
       "      <th></th>\n",
       "      <th>Food</th>\n",
       "      <th>Food Type</th>\n",
       "      <th>Calories</th>\n",
       "      <th>Grams</th>\n",
       "      <th>Protein</th>\n",
       "      <th>Fat</th>\n",
       "      <th>Fiber</th>\n",
       "      <th>Carbs</th>\n",
       "    </tr>\n",
       "  </thead>\n",
       "  <tbody>\n",
       "  </tbody>\n",
       "</table>\n",
       "</div>"
      ],
      "text/plain": [
       "Empty DataFrame\n",
       "Columns: [Food, Food Type, Calories, Grams, Protein, Fat, Fiber, Carbs]\n",
       "Index: []"
      ]
     },
     "execution_count": 13,
     "metadata": {},
     "output_type": "execute_result"
    }
   ],
   "source": [
    "food[food[\"Protein\"]>250]"
   ]
  },
  {
   "cell_type": "code",
   "execution_count": 14,
   "id": "d588478a",
   "metadata": {},
   "outputs": [
    {
     "data": {
      "text/html": [
       "<div>\n",
       "<style scoped>\n",
       "    .dataframe tbody tr th:only-of-type {\n",
       "        vertical-align: middle;\n",
       "    }\n",
       "\n",
       "    .dataframe tbody tr th {\n",
       "        vertical-align: top;\n",
       "    }\n",
       "\n",
       "    .dataframe thead th {\n",
       "        text-align: right;\n",
       "    }\n",
       "</style>\n",
       "<table border=\"1\" class=\"dataframe\">\n",
       "  <thead>\n",
       "    <tr style=\"text-align: right;\">\n",
       "      <th></th>\n",
       "      <th>Food</th>\n",
       "      <th>Food Type</th>\n",
       "      <th>Calories</th>\n",
       "      <th>Grams</th>\n",
       "      <th>Protein</th>\n",
       "      <th>Fat</th>\n",
       "      <th>Fiber</th>\n",
       "      <th>Carbs</th>\n",
       "    </tr>\n",
       "  </thead>\n",
       "  <tbody>\n",
       "    <tr>\n",
       "      <th>7</th>\n",
       "      <td>skim, non-instant</td>\n",
       "      <td>Dairy</td>\n",
       "      <td>292.0</td>\n",
       "      <td>73.0</td>\n",
       "      <td>-30.0</td>\n",
       "      <td>0.0</td>\n",
       "      <td>1.0</td>\n",
       "      <td>42.0</td>\n",
       "    </tr>\n",
       "    <tr>\n",
       "      <th>113</th>\n",
       "      <td>French-fried</td>\n",
       "      <td>Vegetables</td>\n",
       "      <td>140.6</td>\n",
       "      <td>26.4</td>\n",
       "      <td>-1.0</td>\n",
       "      <td>7.0</td>\n",
       "      <td>0.4</td>\n",
       "      <td>20.0</td>\n",
       "    </tr>\n",
       "  </tbody>\n",
       "</table>\n",
       "</div>"
      ],
      "text/plain": [
       "                  Food   Food Type  Calories  Grams  Protein  Fat  Fiber  \\\n",
       "7    skim, non-instant       Dairy     292.0   73.0    -30.0  0.0    1.0   \n",
       "113       French-fried  Vegetables     140.6   26.4     -1.0  7.0    0.4   \n",
       "\n",
       "     Carbs  \n",
       "7     42.0  \n",
       "113   20.0  "
      ]
     },
     "execution_count": 14,
     "metadata": {},
     "output_type": "execute_result"
    }
   ],
   "source": [
    "food[food[\"Protein\"]<0]"
   ]
  },
  {
   "cell_type": "code",
   "execution_count": 15,
   "id": "106bb044",
   "metadata": {},
   "outputs": [],
   "source": [
    "food.loc[7,\"Protein\"]=food.loc[7,\"Protein\"]*-1\n",
    "food.loc[113,\"Protein\"]=food.loc[113,\"Protein\"]*-1"
   ]
  },
  {
   "cell_type": "code",
   "execution_count": 16,
   "id": "51cf0768",
   "metadata": {},
   "outputs": [
    {
     "data": {
      "text/html": [
       "<div>\n",
       "<style scoped>\n",
       "    .dataframe tbody tr th:only-of-type {\n",
       "        vertical-align: middle;\n",
       "    }\n",
       "\n",
       "    .dataframe tbody tr th {\n",
       "        vertical-align: top;\n",
       "    }\n",
       "\n",
       "    .dataframe thead th {\n",
       "        text-align: right;\n",
       "    }\n",
       "</style>\n",
       "<table border=\"1\" class=\"dataframe\">\n",
       "  <thead>\n",
       "    <tr style=\"text-align: right;\">\n",
       "      <th></th>\n",
       "      <th>Food</th>\n",
       "      <th>Food Type</th>\n",
       "      <th>Calories</th>\n",
       "      <th>Grams</th>\n",
       "      <th>Protein</th>\n",
       "      <th>Fat</th>\n",
       "      <th>Fiber</th>\n",
       "      <th>Carbs</th>\n",
       "    </tr>\n",
       "  </thead>\n",
       "  <tbody>\n",
       "    <tr>\n",
       "      <th>14</th>\n",
       "      <td>Cheddar</td>\n",
       "      <td>Dairy</td>\n",
       "      <td>70.0</td>\n",
       "      <td>10.0</td>\n",
       "      <td>4.0</td>\n",
       "      <td>470.0</td>\n",
       "      <td>0.0</td>\n",
       "      <td>0.0</td>\n",
       "    </tr>\n",
       "    <tr>\n",
       "      <th>212</th>\n",
       "      <td>Roast beef</td>\n",
       "      <td>Meat &amp; Poultry</td>\n",
       "      <td>388.0</td>\n",
       "      <td>52.0</td>\n",
       "      <td>16.0</td>\n",
       "      <td>360.0</td>\n",
       "      <td>0.0</td>\n",
       "      <td>0.0</td>\n",
       "    </tr>\n",
       "  </tbody>\n",
       "</table>\n",
       "</div>"
      ],
      "text/plain": [
       "           Food       Food Type  Calories  Grams  Protein    Fat  Fiber  Carbs\n",
       "14      Cheddar           Dairy      70.0   10.0      4.0  470.0    0.0    0.0\n",
       "212  Roast beef  Meat & Poultry     388.0   52.0     16.0  360.0    0.0    0.0"
      ]
     },
     "execution_count": 16,
     "metadata": {},
     "output_type": "execute_result"
    }
   ],
   "source": [
    "food[food[\"Fat\"]>250]"
   ]
  },
  {
   "cell_type": "code",
   "execution_count": 17,
   "id": "df653a94",
   "metadata": {},
   "outputs": [
    {
     "data": {
      "text/html": [
       "<div>\n",
       "<style scoped>\n",
       "    .dataframe tbody tr th:only-of-type {\n",
       "        vertical-align: middle;\n",
       "    }\n",
       "\n",
       "    .dataframe tbody tr th {\n",
       "        vertical-align: top;\n",
       "    }\n",
       "\n",
       "    .dataframe thead th {\n",
       "        text-align: right;\n",
       "    }\n",
       "</style>\n",
       "<table border=\"1\" class=\"dataframe\">\n",
       "  <thead>\n",
       "    <tr style=\"text-align: right;\">\n",
       "      <th></th>\n",
       "      <th>Food</th>\n",
       "      <th>Food Type</th>\n",
       "      <th>Calories</th>\n",
       "      <th>Grams</th>\n",
       "      <th>Protein</th>\n",
       "      <th>Fat</th>\n",
       "      <th>Fiber</th>\n",
       "      <th>Carbs</th>\n",
       "    </tr>\n",
       "  </thead>\n",
       "  <tbody>\n",
       "    <tr>\n",
       "      <th>44</th>\n",
       "      <td>Wheat germ</td>\n",
       "      <td>Grains</td>\n",
       "      <td>277.0</td>\n",
       "      <td>60.5</td>\n",
       "      <td>17.0</td>\n",
       "      <td>-7.0</td>\n",
       "      <td>2.5</td>\n",
       "      <td>34.0</td>\n",
       "    </tr>\n",
       "  </tbody>\n",
       "</table>\n",
       "</div>"
      ],
      "text/plain": [
       "          Food Food Type  Calories  Grams  Protein  Fat  Fiber  Carbs\n",
       "44  Wheat germ    Grains     277.0   60.5     17.0 -7.0    2.5   34.0"
      ]
     },
     "execution_count": 17,
     "metadata": {},
     "output_type": "execute_result"
    }
   ],
   "source": [
    "food[food[\"Fat\"]<0]"
   ]
  },
  {
   "cell_type": "code",
   "execution_count": 18,
   "id": "0ac914ec",
   "metadata": {},
   "outputs": [],
   "source": [
    "food.loc[14,\"Fat\"]=6\n",
    "food.loc[212,\"Fat\"]=36\n",
    "food.loc[44,\"Fat\"]=food.loc[44,\"Fat\"]*-1"
   ]
  },
  {
   "cell_type": "code",
   "execution_count": 19,
   "id": "6af7ea0e",
   "metadata": {},
   "outputs": [
    {
     "data": {
      "text/html": [
       "<div>\n",
       "<style scoped>\n",
       "    .dataframe tbody tr th:only-of-type {\n",
       "        vertical-align: middle;\n",
       "    }\n",
       "\n",
       "    .dataframe tbody tr th {\n",
       "        vertical-align: top;\n",
       "    }\n",
       "\n",
       "    .dataframe thead th {\n",
       "        text-align: right;\n",
       "    }\n",
       "</style>\n",
       "<table border=\"1\" class=\"dataframe\">\n",
       "  <thead>\n",
       "    <tr style=\"text-align: right;\">\n",
       "      <th></th>\n",
       "      <th>Food</th>\n",
       "      <th>Food Type</th>\n",
       "      <th>Calories</th>\n",
       "      <th>Grams</th>\n",
       "      <th>Protein</th>\n",
       "      <th>Fat</th>\n",
       "      <th>Fiber</th>\n",
       "      <th>Carbs</th>\n",
       "    </tr>\n",
       "  </thead>\n",
       "  <tbody>\n",
       "  </tbody>\n",
       "</table>\n",
       "</div>"
      ],
      "text/plain": [
       "Empty DataFrame\n",
       "Columns: [Food, Food Type, Calories, Grams, Protein, Fat, Fiber, Carbs]\n",
       "Index: []"
      ]
     },
     "execution_count": 19,
     "metadata": {},
     "output_type": "execute_result"
    }
   ],
   "source": [
    "food[food[\"Fiber\"]>250]"
   ]
  },
  {
   "cell_type": "code",
   "execution_count": 20,
   "id": "4134a416",
   "metadata": {},
   "outputs": [
    {
     "data": {
      "text/html": [
       "<div>\n",
       "<style scoped>\n",
       "    .dataframe tbody tr th:only-of-type {\n",
       "        vertical-align: middle;\n",
       "    }\n",
       "\n",
       "    .dataframe tbody tr th {\n",
       "        vertical-align: top;\n",
       "    }\n",
       "\n",
       "    .dataframe thead th {\n",
       "        text-align: right;\n",
       "    }\n",
       "</style>\n",
       "<table border=\"1\" class=\"dataframe\">\n",
       "  <thead>\n",
       "    <tr style=\"text-align: right;\">\n",
       "      <th></th>\n",
       "      <th>Food</th>\n",
       "      <th>Food Type</th>\n",
       "      <th>Calories</th>\n",
       "      <th>Grams</th>\n",
       "      <th>Protein</th>\n",
       "      <th>Fat</th>\n",
       "      <th>Fiber</th>\n",
       "      <th>Carbs</th>\n",
       "    </tr>\n",
       "  </thead>\n",
       "  <tbody>\n",
       "  </tbody>\n",
       "</table>\n",
       "</div>"
      ],
      "text/plain": [
       "Empty DataFrame\n",
       "Columns: [Food, Food Type, Calories, Grams, Protein, Fat, Fiber, Carbs]\n",
       "Index: []"
      ]
     },
     "execution_count": 20,
     "metadata": {},
     "output_type": "execute_result"
    }
   ],
   "source": [
    "food[food[\"Fiber\"]<0]"
   ]
  },
  {
   "cell_type": "code",
   "execution_count": 21,
   "id": "0272b1d9",
   "metadata": {},
   "outputs": [
    {
     "data": {
      "text/html": [
       "<div>\n",
       "<style scoped>\n",
       "    .dataframe tbody tr th:only-of-type {\n",
       "        vertical-align: middle;\n",
       "    }\n",
       "\n",
       "    .dataframe tbody tr th {\n",
       "        vertical-align: top;\n",
       "    }\n",
       "\n",
       "    .dataframe thead th {\n",
       "        text-align: right;\n",
       "    }\n",
       "</style>\n",
       "<table border=\"1\" class=\"dataframe\">\n",
       "  <thead>\n",
       "    <tr style=\"text-align: right;\">\n",
       "      <th></th>\n",
       "      <th>Food</th>\n",
       "      <th>Food Type</th>\n",
       "      <th>Calories</th>\n",
       "      <th>Grams</th>\n",
       "      <th>Protein</th>\n",
       "      <th>Fat</th>\n",
       "      <th>Fiber</th>\n",
       "      <th>Carbs</th>\n",
       "    </tr>\n",
       "  </thead>\n",
       "  <tbody>\n",
       "  </tbody>\n",
       "</table>\n",
       "</div>"
      ],
      "text/plain": [
       "Empty DataFrame\n",
       "Columns: [Food, Food Type, Calories, Grams, Protein, Fat, Fiber, Carbs]\n",
       "Index: []"
      ]
     },
     "execution_count": 21,
     "metadata": {},
     "output_type": "execute_result"
    }
   ],
   "source": [
    "food[food[\"Carbs\"]>250]"
   ]
  },
  {
   "cell_type": "code",
   "execution_count": 22,
   "id": "a2308618",
   "metadata": {},
   "outputs": [
    {
     "data": {
      "text/html": [
       "<div>\n",
       "<style scoped>\n",
       "    .dataframe tbody tr th:only-of-type {\n",
       "        vertical-align: middle;\n",
       "    }\n",
       "\n",
       "    .dataframe tbody tr th {\n",
       "        vertical-align: top;\n",
       "    }\n",
       "\n",
       "    .dataframe thead th {\n",
       "        text-align: right;\n",
       "    }\n",
       "</style>\n",
       "<table border=\"1\" class=\"dataframe\">\n",
       "  <thead>\n",
       "    <tr style=\"text-align: right;\">\n",
       "      <th></th>\n",
       "      <th>Food</th>\n",
       "      <th>Food Type</th>\n",
       "      <th>Calories</th>\n",
       "      <th>Grams</th>\n",
       "      <th>Protein</th>\n",
       "      <th>Fat</th>\n",
       "      <th>Fiber</th>\n",
       "      <th>Carbs</th>\n",
       "    </tr>\n",
       "  </thead>\n",
       "  <tbody>\n",
       "    <tr>\n",
       "      <th>36</th>\n",
       "      <td>Farina</td>\n",
       "      <td>Grains</td>\n",
       "      <td>132.0</td>\n",
       "      <td>33.0</td>\n",
       "      <td>3.0</td>\n",
       "      <td>0.0</td>\n",
       "      <td>8.0</td>\n",
       "      <td>-22.0</td>\n",
       "    </tr>\n",
       "    <tr>\n",
       "      <th>81</th>\n",
       "      <td>Collards</td>\n",
       "      <td>Vegetables</td>\n",
       "      <td>60.0</td>\n",
       "      <td>15.0</td>\n",
       "      <td>5.0</td>\n",
       "      <td>0.0</td>\n",
       "      <td>2.0</td>\n",
       "      <td>-8.0</td>\n",
       "    </tr>\n",
       "  </tbody>\n",
       "</table>\n",
       "</div>"
      ],
      "text/plain": [
       "        Food   Food Type  Calories  Grams  Protein  Fat  Fiber  Carbs\n",
       "36    Farina      Grains     132.0   33.0      3.0  0.0    8.0  -22.0\n",
       "81  Collards  Vegetables      60.0   15.0      5.0  0.0    2.0   -8.0"
      ]
     },
     "execution_count": 22,
     "metadata": {},
     "output_type": "execute_result"
    }
   ],
   "source": [
    "food[food[\"Carbs\"]<0]"
   ]
  },
  {
   "cell_type": "code",
   "execution_count": 23,
   "id": "54fbc4d5",
   "metadata": {},
   "outputs": [],
   "source": [
    "food.loc[36,\"Carbs\"]=food.loc[36,\"Carbs\"]*-1\n",
    "food.loc[81,\"Carbs\"]=food.loc[81,\"Carbs\"]*-1"
   ]
  },
  {
   "cell_type": "markdown",
   "id": "3da4bc77",
   "metadata": {},
   "source": [
    "# 5. Fill in null values"
   ]
  },
  {
   "cell_type": "code",
   "execution_count": 24,
   "id": "73da07f8",
   "metadata": {},
   "outputs": [
    {
     "data": {
      "text/plain": [
       "Food         0\n",
       "Food Type    0\n",
       "Calories     0\n",
       "Grams        0\n",
       "Protein      2\n",
       "Fat          3\n",
       "Fiber        1\n",
       "Carbs        1\n",
       "dtype: int64"
      ]
     },
     "execution_count": 24,
     "metadata": {},
     "output_type": "execute_result"
    }
   ],
   "source": [
    "food.isna().sum()"
   ]
  },
  {
   "cell_type": "code",
   "execution_count": 25,
   "id": "6dfcbe2b",
   "metadata": {},
   "outputs": [
    {
     "data": {
      "text/html": [
       "<div>\n",
       "<style scoped>\n",
       "    .dataframe tbody tr th:only-of-type {\n",
       "        vertical-align: middle;\n",
       "    }\n",
       "\n",
       "    .dataframe tbody tr th {\n",
       "        vertical-align: top;\n",
       "    }\n",
       "\n",
       "    .dataframe thead th {\n",
       "        text-align: right;\n",
       "    }\n",
       "</style>\n",
       "<table border=\"1\" class=\"dataframe\">\n",
       "  <thead>\n",
       "    <tr style=\"text-align: right;\">\n",
       "      <th></th>\n",
       "      <th>Food</th>\n",
       "      <th>Food Type</th>\n",
       "      <th>Calories</th>\n",
       "      <th>Grams</th>\n",
       "      <th>Protein</th>\n",
       "      <th>Fat</th>\n",
       "      <th>Fiber</th>\n",
       "      <th>Carbs</th>\n",
       "    </tr>\n",
       "  </thead>\n",
       "  <tbody>\n",
       "    <tr>\n",
       "      <th>6</th>\n",
       "      <td>skim, instant</td>\n",
       "      <td>Dairy</td>\n",
       "      <td>288.0</td>\n",
       "      <td>72.0</td>\n",
       "      <td>NaN</td>\n",
       "      <td>0.0</td>\n",
       "      <td>0.0</td>\n",
       "      <td>42.0</td>\n",
       "    </tr>\n",
       "    <tr>\n",
       "      <th>111</th>\n",
       "      <td>Peppers with beef and crumbs</td>\n",
       "      <td>Vegetables</td>\n",
       "      <td>257.0</td>\n",
       "      <td>53.0</td>\n",
       "      <td>NaN</td>\n",
       "      <td>9.0</td>\n",
       "      <td>1.0</td>\n",
       "      <td>24.0</td>\n",
       "    </tr>\n",
       "  </tbody>\n",
       "</table>\n",
       "</div>"
      ],
      "text/plain": [
       "                             Food   Food Type  Calories  Grams  Protein  Fat  \\\n",
       "6                   skim, instant       Dairy     288.0   72.0      NaN  0.0   \n",
       "111  Peppers with beef and crumbs  Vegetables     257.0   53.0      NaN  9.0   \n",
       "\n",
       "     Fiber  Carbs  \n",
       "6      0.0   42.0  \n",
       "111    1.0   24.0  "
      ]
     },
     "execution_count": 25,
     "metadata": {},
     "output_type": "execute_result"
    }
   ],
   "source": [
    "food[food[\"Protein\"].isna()]"
   ]
  },
  {
   "cell_type": "code",
   "execution_count": 26,
   "id": "ec0a8b0a",
   "metadata": {},
   "outputs": [],
   "source": [
    "food.loc[6,\"Protein\"]=food.loc[6,\"Grams\"]-food.loc[6,\"Fat\"]-food.loc[6,\"Fiber\"]-food.loc[6,\"Carbs\"]\n",
    "food.loc[111,\"Protein\"]=food.loc[111,\"Grams\"]-food.loc[111,\"Fat\"]-food.loc[111,\"Fiber\"]-food.loc[111,\"Carbs\"]"
   ]
  },
  {
   "cell_type": "code",
   "execution_count": 27,
   "id": "c46dc555",
   "metadata": {},
   "outputs": [
    {
     "data": {
      "text/html": [
       "<div>\n",
       "<style scoped>\n",
       "    .dataframe tbody tr th:only-of-type {\n",
       "        vertical-align: middle;\n",
       "    }\n",
       "\n",
       "    .dataframe tbody tr th {\n",
       "        vertical-align: top;\n",
       "    }\n",
       "\n",
       "    .dataframe thead th {\n",
       "        text-align: right;\n",
       "    }\n",
       "</style>\n",
       "<table border=\"1\" class=\"dataframe\">\n",
       "  <thead>\n",
       "    <tr style=\"text-align: right;\">\n",
       "      <th></th>\n",
       "      <th>Food</th>\n",
       "      <th>Food Type</th>\n",
       "      <th>Calories</th>\n",
       "      <th>Grams</th>\n",
       "      <th>Protein</th>\n",
       "      <th>Fat</th>\n",
       "      <th>Fiber</th>\n",
       "      <th>Carbs</th>\n",
       "    </tr>\n",
       "  </thead>\n",
       "  <tbody>\n",
       "    <tr>\n",
       "      <th>84</th>\n",
       "      <td>Cucumbers</td>\n",
       "      <td>Vegetables</td>\n",
       "      <td>4.8</td>\n",
       "      <td>1.2</td>\n",
       "      <td>0.0</td>\n",
       "      <td>NaN</td>\n",
       "      <td>0.2</td>\n",
       "      <td>1.0</td>\n",
       "    </tr>\n",
       "    <tr>\n",
       "      <th>193</th>\n",
       "      <td>Flounder</td>\n",
       "      <td>insert_category_here</td>\n",
       "      <td>192.0</td>\n",
       "      <td>38.0</td>\n",
       "      <td>30.0</td>\n",
       "      <td>NaN</td>\n",
       "      <td>0.0</td>\n",
       "      <td>0.0</td>\n",
       "    </tr>\n",
       "    <tr>\n",
       "      <th>215</th>\n",
       "      <td>Corned beef</td>\n",
       "      <td>Meat &amp; Poultry</td>\n",
       "      <td>178.0</td>\n",
       "      <td>32.0</td>\n",
       "      <td>22.0</td>\n",
       "      <td>NaN</td>\n",
       "      <td>0.0</td>\n",
       "      <td>0.0</td>\n",
       "    </tr>\n",
       "  </tbody>\n",
       "</table>\n",
       "</div>"
      ],
      "text/plain": [
       "            Food             Food Type  Calories  Grams  Protein  Fat  Fiber  \\\n",
       "84     Cucumbers            Vegetables       4.8    1.2      0.0  NaN    0.2   \n",
       "193     Flounder  insert_category_here     192.0   38.0     30.0  NaN    0.0   \n",
       "215  Corned beef        Meat & Poultry     178.0   32.0     22.0  NaN    0.0   \n",
       "\n",
       "     Carbs  \n",
       "84     1.0  \n",
       "193    0.0  \n",
       "215    0.0  "
      ]
     },
     "execution_count": 27,
     "metadata": {},
     "output_type": "execute_result"
    }
   ],
   "source": [
    "food[food[\"Fat\"].isna()]"
   ]
  },
  {
   "cell_type": "code",
   "execution_count": 28,
   "id": "9799a58b",
   "metadata": {},
   "outputs": [],
   "source": [
    "food.loc[84,\"Fat\"]=food.loc[84,\"Grams\"]-food.loc[84,\"Protein\"]-food.loc[84,\"Fiber\"]-food.loc[84,\"Carbs\"]\n",
    "food.loc[193,\"Fat\"]=food.loc[193,\"Grams\"]-food.loc[193,\"Protein\"]-food.loc[193,\"Fiber\"]-food.loc[193,\"Carbs\"]\n",
    "food.loc[215,\"Fat\"]=food.loc[215,\"Grams\"]-food.loc[215,\"Protein\"]-food.loc[215,\"Fiber\"]-food.loc[215,\"Carbs\"]"
   ]
  },
  {
   "cell_type": "code",
   "execution_count": 29,
   "id": "c81198a6",
   "metadata": {},
   "outputs": [
    {
     "data": {
      "text/html": [
       "<div>\n",
       "<style scoped>\n",
       "    .dataframe tbody tr th:only-of-type {\n",
       "        vertical-align: middle;\n",
       "    }\n",
       "\n",
       "    .dataframe tbody tr th {\n",
       "        vertical-align: top;\n",
       "    }\n",
       "\n",
       "    .dataframe thead th {\n",
       "        text-align: right;\n",
       "    }\n",
       "</style>\n",
       "<table border=\"1\" class=\"dataframe\">\n",
       "  <thead>\n",
       "    <tr style=\"text-align: right;\">\n",
       "      <th></th>\n",
       "      <th>Food</th>\n",
       "      <th>Food Type</th>\n",
       "      <th>Calories</th>\n",
       "      <th>Grams</th>\n",
       "      <th>Protein</th>\n",
       "      <th>Fat</th>\n",
       "      <th>Fiber</th>\n",
       "      <th>Carbs</th>\n",
       "    </tr>\n",
       "  </thead>\n",
       "  <tbody>\n",
       "    <tr>\n",
       "      <th>66</th>\n",
       "      <td>Red kidney</td>\n",
       "      <td>Vegetables</td>\n",
       "      <td>247.0</td>\n",
       "      <td>60.5</td>\n",
       "      <td>15.0</td>\n",
       "      <td>1.0</td>\n",
       "      <td>NaN</td>\n",
       "      <td>42.0</td>\n",
       "    </tr>\n",
       "  </tbody>\n",
       "</table>\n",
       "</div>"
      ],
      "text/plain": [
       "          Food   Food Type  Calories  Grams  Protein  Fat  Fiber  Carbs\n",
       "66  Red kidney  Vegetables     247.0   60.5     15.0  1.0    NaN   42.0"
      ]
     },
     "execution_count": 29,
     "metadata": {},
     "output_type": "execute_result"
    }
   ],
   "source": [
    "food[food[\"Fiber\"].isna()]"
   ]
  },
  {
   "cell_type": "code",
   "execution_count": 30,
   "id": "081711b2",
   "metadata": {},
   "outputs": [],
   "source": [
    "food.loc[66,\"Fiber\"]=food.loc[66,\"Grams\"]-food.loc[66,\"Protein\"]-food.loc[66,\"Fat\"]-food.loc[66,\"Carbs\"]"
   ]
  },
  {
   "cell_type": "code",
   "execution_count": 31,
   "id": "f3d612ca",
   "metadata": {},
   "outputs": [
    {
     "data": {
      "text/html": [
       "<div>\n",
       "<style scoped>\n",
       "    .dataframe tbody tr th:only-of-type {\n",
       "        vertical-align: middle;\n",
       "    }\n",
       "\n",
       "    .dataframe tbody tr th {\n",
       "        vertical-align: top;\n",
       "    }\n",
       "\n",
       "    .dataframe thead th {\n",
       "        text-align: right;\n",
       "    }\n",
       "</style>\n",
       "<table border=\"1\" class=\"dataframe\">\n",
       "  <thead>\n",
       "    <tr style=\"text-align: right;\">\n",
       "      <th></th>\n",
       "      <th>Food</th>\n",
       "      <th>Food Type</th>\n",
       "      <th>Calories</th>\n",
       "      <th>Grams</th>\n",
       "      <th>Protein</th>\n",
       "      <th>Fat</th>\n",
       "      <th>Fiber</th>\n",
       "      <th>Carbs</th>\n",
       "    </tr>\n",
       "  </thead>\n",
       "  <tbody>\n",
       "    <tr>\n",
       "      <th>92</th>\n",
       "      <td>Kohlrabi</td>\n",
       "      <td>Vegetables</td>\n",
       "      <td>50.0</td>\n",
       "      <td>12.5</td>\n",
       "      <td>2.0</td>\n",
       "      <td>0.0</td>\n",
       "      <td>1.5</td>\n",
       "      <td>NaN</td>\n",
       "    </tr>\n",
       "  </tbody>\n",
       "</table>\n",
       "</div>"
      ],
      "text/plain": [
       "        Food   Food Type  Calories  Grams  Protein  Fat  Fiber  Carbs\n",
       "92  Kohlrabi  Vegetables      50.0   12.5      2.0  0.0    1.5    NaN"
      ]
     },
     "execution_count": 31,
     "metadata": {},
     "output_type": "execute_result"
    }
   ],
   "source": [
    "food[food[\"Carbs\"].isna()]"
   ]
  },
  {
   "cell_type": "code",
   "execution_count": 32,
   "id": "74360a8d",
   "metadata": {},
   "outputs": [],
   "source": [
    "food.loc[92,\"Carbs\"]=food.loc[92,\"Grams\"]-food.loc[92,\"Protein\"]-food.loc[92,\"Fat\"]-food.loc[92,\"Fiber\"]"
   ]
  },
  {
   "cell_type": "markdown",
   "id": "65d33805",
   "metadata": {},
   "source": [
    "# 6. Remove duplicate values"
   ]
  },
  {
   "cell_type": "code",
   "execution_count": 33,
   "id": "6465fbfc",
   "metadata": {
    "scrolled": true
   },
   "outputs": [
    {
     "data": {
      "text/html": [
       "<div>\n",
       "<style scoped>\n",
       "    .dataframe tbody tr th:only-of-type {\n",
       "        vertical-align: middle;\n",
       "    }\n",
       "\n",
       "    .dataframe tbody tr th {\n",
       "        vertical-align: top;\n",
       "    }\n",
       "\n",
       "    .dataframe thead th {\n",
       "        text-align: right;\n",
       "    }\n",
       "</style>\n",
       "<table border=\"1\" class=\"dataframe\">\n",
       "  <thead>\n",
       "    <tr style=\"text-align: right;\">\n",
       "      <th></th>\n",
       "      <th>Food</th>\n",
       "      <th>Food Type</th>\n",
       "      <th>Calories</th>\n",
       "      <th>Grams</th>\n",
       "      <th>Protein</th>\n",
       "      <th>Fat</th>\n",
       "      <th>Fiber</th>\n",
       "      <th>Carbs</th>\n",
       "    </tr>\n",
       "  </thead>\n",
       "  <tbody>\n",
       "    <tr>\n",
       "      <th>87</th>\n",
       "      <td>Eggplant</td>\n",
       "      <td>Vegetables</td>\n",
       "      <td>48.0</td>\n",
       "      <td>12.0</td>\n",
       "      <td>2.0</td>\n",
       "      <td>0.0</td>\n",
       "      <td>1.0</td>\n",
       "      <td>9.0</td>\n",
       "    </tr>\n",
       "    <tr>\n",
       "      <th>88</th>\n",
       "      <td>Eggplant</td>\n",
       "      <td>Vegetables</td>\n",
       "      <td>48.0</td>\n",
       "      <td>12.0</td>\n",
       "      <td>2.0</td>\n",
       "      <td>0.0</td>\n",
       "      <td>1.0</td>\n",
       "      <td>9.0</td>\n",
       "    </tr>\n",
       "    <tr>\n",
       "      <th>89</th>\n",
       "      <td>Eggplant</td>\n",
       "      <td>Vegetables</td>\n",
       "      <td>48.0</td>\n",
       "      <td>12.0</td>\n",
       "      <td>2.0</td>\n",
       "      <td>0.0</td>\n",
       "      <td>1.0</td>\n",
       "      <td>9.0</td>\n",
       "    </tr>\n",
       "  </tbody>\n",
       "</table>\n",
       "</div>"
      ],
      "text/plain": [
       "        Food   Food Type  Calories  Grams  Protein  Fat  Fiber  Carbs\n",
       "87  Eggplant  Vegetables      48.0   12.0      2.0  0.0    1.0    9.0\n",
       "88  Eggplant  Vegetables      48.0   12.0      2.0  0.0    1.0    9.0\n",
       "89  Eggplant  Vegetables      48.0   12.0      2.0  0.0    1.0    9.0"
      ]
     },
     "execution_count": 33,
     "metadata": {},
     "output_type": "execute_result"
    }
   ],
   "source": [
    "food[food.duplicated()]"
   ]
  },
  {
   "cell_type": "code",
   "execution_count": 34,
   "id": "aa505a34",
   "metadata": {},
   "outputs": [
    {
     "data": {
      "text/html": [
       "<div>\n",
       "<style scoped>\n",
       "    .dataframe tbody tr th:only-of-type {\n",
       "        vertical-align: middle;\n",
       "    }\n",
       "\n",
       "    .dataframe tbody tr th {\n",
       "        vertical-align: top;\n",
       "    }\n",
       "\n",
       "    .dataframe thead th {\n",
       "        text-align: right;\n",
       "    }\n",
       "</style>\n",
       "<table border=\"1\" class=\"dataframe\">\n",
       "  <thead>\n",
       "    <tr style=\"text-align: right;\">\n",
       "      <th></th>\n",
       "      <th>Food</th>\n",
       "      <th>Food Type</th>\n",
       "      <th>Calories</th>\n",
       "      <th>Grams</th>\n",
       "      <th>Protein</th>\n",
       "      <th>Fat</th>\n",
       "      <th>Fiber</th>\n",
       "      <th>Carbs</th>\n",
       "    </tr>\n",
       "  </thead>\n",
       "  <tbody>\n",
       "  </tbody>\n",
       "</table>\n",
       "</div>"
      ],
      "text/plain": [
       "Empty DataFrame\n",
       "Columns: [Food, Food Type, Calories, Grams, Protein, Fat, Fiber, Carbs]\n",
       "Index: []"
      ]
     },
     "execution_count": 34,
     "metadata": {},
     "output_type": "execute_result"
    }
   ],
   "source": [
    "food.drop_duplicates(inplace=True)\n",
    "food.reset_index(inplace=True,drop=True)\n",
    "food[food.duplicated()]"
   ]
  },
  {
   "cell_type": "markdown",
   "id": "3db41bc9",
   "metadata": {},
   "source": [
    "# 7. Resolve categorical data errors"
   ]
  },
  {
   "cell_type": "code",
   "execution_count": 35,
   "id": "5b4791b1",
   "metadata": {},
   "outputs": [
    {
     "data": {
      "text/plain": [
       "Vegetables              70\n",
       "Fruits                  56\n",
       "Meat & Poultry          27\n",
       "Grains                  20\n",
       "Dairy                   18\n",
       "Seafood                 16\n",
       "Nuts                    12\n",
       "Soup                     9\n",
       "Oils & Fats              5\n",
       "Eggs                     3\n",
       "Drairy                   1\n",
       "Fruit                    1\n",
       "insert_category_here     1\n",
       "Mreat & Poultry          1\n",
       "Oil & Fats               1\n",
       "Name: Food Type, dtype: int64"
      ]
     },
     "execution_count": 35,
     "metadata": {},
     "output_type": "execute_result"
    }
   ],
   "source": [
    "food[\"Food Type\"].value_counts()"
   ]
  },
  {
   "cell_type": "code",
   "execution_count": 36,
   "id": "1e3e3128",
   "metadata": {},
   "outputs": [
    {
     "name": "stdout",
     "output_type": "stream",
     "text": [
      "                                       Food             Food Type  Calories   Grams  Protein    Fat  Fiber  Carbs\n",
      "0                                Cows' milk                 Dairy    680.00  120.00     32.0   40.0   0.00   48.0\n",
      "1                                 Milk skim                 Dairy    352.00   88.00     36.0    0.0   0.00   52.0\n",
      "2                                Buttermilk                 Dairy    133.00   27.00      9.0    5.0   0.00   13.0\n",
      "3                     Evaporated, undiluted                 Dairy    340.00   60.00     16.0   20.0   0.00   24.0\n",
      "4                            Fortified milk                 Dairy   1215.60  251.40     89.0   42.0   1.40  119.0\n",
      "5                             Powdered milk                 Dairy    516.00   94.00     27.0   28.0   0.00   39.0\n",
      "6                             skim, instant                 Dairy    288.00   72.00     30.0    0.0   0.00   42.0\n",
      "7                         skim, non-instant                 Dairy    292.00   73.00     30.0    0.0   1.00   42.0\n",
      "8                               Goats' milk                 Dairy    166.00   29.00      8.0   10.0   0.00   11.0\n",
      "9                                Skim. milk                 Dairy    164.00   36.00     18.0    4.0   1.00   13.0\n",
      "10                               Cornstarch                 Dairy    286.00   59.00      9.0   10.0   0.00   40.0\n",
      "11                                 Ice milk                 Dairy    254.00   51.00      9.0   10.0   0.00   32.0\n",
      "12                                   Cheese                 Dairy    243.00   47.00     30.0   11.0   0.00    6.0\n",
      "13                                uncreamed                 Dairy    176.00   44.00     38.0    0.0   0.00    6.0\n",
      "14                                  Cheddar                 Dairy     70.00   10.00      4.0    6.0   0.00    0.0\n",
      "15                      Cheddar, grated cup                Drairy    231.00   34.00     14.0   19.0   0.00    1.0\n",
      "16                             Cream cheese                 Dairy    111.00   14.00      2.0   11.0   0.00    1.0\n",
      "17                           Roquefort type                 Dairy    105.00   15.00      6.0    9.0   0.00    0.0\n",
      "18                                    Swiss                 Dairy    100.00   15.00      7.0    8.0   0.00    0.0\n",
      "19                               Bean soups                  Soup    199.40   43.60      8.0    5.0   0.60   30.0\n",
      "20                                Beef soup                  Soup    106.00   21.50      6.0    4.0   0.50   11.0\n",
      "21                                 Bouillon                  Soup     20.00    5.00      5.0    0.0   0.00    0.0\n",
      "22                             chicken soup                  Soup     74.00   16.00      4.0    2.0   0.00   10.0\n",
      "23                             Clam chowder                  Soup     88.00   19.50      5.0    2.0   0.50   12.0\n",
      "24                              Cream soups                  Soup    212.80   38.20      7.0   12.0   1.20   18.0\n",
      "25                           Split-pea soup                  Soup    161.00   36.50      8.0    3.0   0.50   25.0\n",
      "26                              Tomato soup                  Soup    177.00   35.50      6.0    7.0   0.50   22.0\n",
      "27                                Vegetable                  Soup     90.00   20.00      4.0    2.0   0.00   14.0\n",
      "28                              Bran flakes                Grains    140.40   35.10      3.0    0.0   0.10   32.0\n",
      "29                     Bread, cracked wheat                Grains     65.40   15.10      2.0    1.0   0.10   12.0\n",
      "30                                      Rye                Grains     65.40   15.10      2.0    1.0   0.10   12.0\n",
      "31                          Rye whole-wheat                Grains   1452.00  345.50     48.0   14.0  67.50  216.0\n",
      "32                    Rye whole-wheat slice                Grains     62.24   14.31      2.0    1.0   0.31   11.0\n",
      "33                   Corn bread ground meal                Grains    109.20   22.30      3.0    4.0   0.30   15.0\n",
      "34                        Corn grits cooked                Grains    140.80   35.20      8.0    0.0   0.20   27.0\n",
      "35                                Corn meal                Grains    374.40   88.60      9.0    4.0   1.60   74.0\n",
      "36                                   Farina                Grains    132.00   33.00      3.0    0.0   8.00   22.0\n",
      "37                                    Flour                Grains    497.60   96.90     39.0   22.0   2.90   33.0\n",
      "38                      Wheat (all purpose)                Grains    394.20   97.30     12.0    1.0   0.30   84.0\n",
      "39                            Wheat (whole)                Grains    397.20   96.80     13.0    2.0   2.80   79.0\n",
      "40                                  Oatmeal                Grains    169.40   38.60      5.0    3.0   4.60   26.0\n",
      "41                                     Rice                Grains    707.80  173.20     15.0    3.0   1.20  154.0\n",
      "42                              Rice flakes                Grains    112.40   28.10      2.0    0.0   0.10   26.0\n",
      "43                              Rice polish                Grains    194.80   41.20      6.0    6.0   1.20   28.0\n",
      "44                               Wheat germ                Grains    277.00   60.50     17.0    7.0   2.50   34.0\n",
      "45                Wheat-germ cereal toasted                Grains    297.00   65.50     20.0    7.0   2.50   36.0\n",
      "46              Wheat meal cereal unrefined                Grains    127.80   30.70      4.0    1.0   0.70   25.0\n",
      "47                            Wheat, cooked                Grains    214.60   52.40     12.0    1.0   4.40   35.0\n",
      "48                                  Almonds                  Nuts    453.20   65.80     13.0   38.0   1.80   13.0\n",
      "49                       roasted and salted                  Nuts    471.20   67.80     13.0   40.0   1.80   13.0\n",
      "50                              Brazil nuts                  Nuts    499.00   66.00     10.0   47.0   2.00    7.0\n",
      "51                                  Cashews                  Nuts    419.60   64.90     12.0   32.0   0.90   20.0\n",
      "52                        coconut sweetened                  Nuts    296.00   49.00      1.0   20.0   2.00   26.0\n",
      "53                            Peanut butter                  Nuts    312.60   46.90     12.0   25.0   0.90    9.0\n",
      "54                   Peanut butter, natural                  Nuts    303.60   45.90     13.0   24.0   0.90    8.0\n",
      "55                                  Peanuts                  Nuts    317.80   48.20     13.0   25.0   1.20    9.0\n",
      "56                                   Pecans                  Nuts    367.40   48.10      5.0   35.0   1.10    7.0\n",
      "57                             Sesame seeds                  Nuts    304.40   46.10      9.0   24.0   3.10   10.0\n",
      "58                          Sunflower seeds                  Nuts    329.60   49.90     12.0   26.0   1.90   10.0\n",
      "59                                  Walnuts                  Nuts    352.00   48.00      7.0   32.0   1.00    8.0\n",
      "60                                Artichoke            Vegetables     56.00   14.00      2.0    0.0   2.00   10.0\n",
      "61                                Asparagus            Vegetables     18.00    4.50      1.0    0.0   0.50    3.0\n",
      "62                                    Beans            Vegetables     31.20    7.80      1.0    0.0   0.80    6.0\n",
      "63                                     Lima            Vegetables    140.00   35.00      8.0    0.0   3.00   24.0\n",
      "64                        Lima, dry, cooked            Vegetables    264.00   66.00     16.0    0.0   2.00   48.0\n",
      "65                    Navy, baked with pork            Vegetables    254.00   56.00     11.0    6.0   2.00   37.0\n",
      "66                               Red kidney            Vegetables    247.00   60.50     15.0    1.0   2.50   42.0\n",
      "67                             Bean sprouts            Vegetables     17.20    4.30      1.0    0.0   0.30    3.0\n",
      "68                              Beet greens            Vegetables     37.60    9.40      2.0    0.0   1.40    6.0\n",
      "69                                Beetroots            Vegetables     51.20   12.80     12.0    0.0   0.00    0.8\n",
      "70                                 Broccoli            Vegetables     59.60   14.90      5.0    0.0   1.90    8.0\n",
      "71                         Brussels sprouts            Vegetables     78.80   19.70      6.0    0.0   1.70   12.0\n",
      "72                               Sauerkraut            Vegetables     36.80    9.20      1.0    0.0   1.20    7.0\n",
      "73                          Steamed cabbage            Vegetables     50.00   12.30      2.0    0.0   1.50    9.0\n",
      "74                                  Carrots            Vegetables     47.60   11.90      1.0    0.0   0.90   10.0\n",
      "75                              Raw, grated            Vegetables     48.80   12.20      1.0    0.0   1.20   10.0\n",
      "76                         Strips, from raw            Vegetables     22.00    5.50      0.0    0.0   0.50    5.0\n",
      "77                              Cauliflower            Vegetables     40.00   10.00      3.0    0.0   1.00    6.0\n",
      "78                                   Celery            Vegetables     24.00    6.00      1.0    0.0   1.00    4.0\n",
      "79                                Stalk raw            Vegetables      9.20    2.30      1.0    0.0   0.30    1.0\n",
      "80                            Chard steamed            Vegetables     41.60   10.40      2.0    0.0   1.40    7.0\n",
      "81                                 Collards            Vegetables     60.00   15.00      5.0    0.0   2.00    8.0\n",
      "82                                     Corn            Vegetables    108.20   25.80      3.0    1.0   0.80   21.0\n",
      "83                         cooked or canned            Vegetables    190.40   47.60      5.0    0.0   1.60   41.0\n",
      "84                                Cucumbers            Vegetables      4.80    1.20      0.0    0.0   0.20    1.0\n",
      "85                         Dandelion greens            Vegetables    105.80   25.20      5.0    1.0   3.20   16.0\n",
      "86                                 Eggplant            Vegetables     48.00   12.00      2.0    0.0   1.00    9.0\n",
      "87                                   Endive            Vegetables     14.40    3.60      1.0    0.0   0.60    2.0\n",
      "88                                     Kale            Vegetables     60.60   13.90      4.0    1.0   0.90    8.0\n",
      "89                                 Kohlrabi            Vegetables     50.00   12.50      2.0    0.0   1.50    9.0\n",
      "90                  Lambs quarters, steamed            Vegetables     60.80   15.20      5.0    0.0   3.20    7.0\n",
      "91                                  Lentils            Vegetables    221.60   55.40     15.0    0.0   2.40   38.0\n",
      "92                                  Lettuce            Vegetables     14.00    3.50      1.0    0.0   0.50    2.0\n",
      "93                                  Iceberg            Vegetables     14.00    3.50      0.0    0.0   0.50    3.0\n",
      "94                         Mushrooms canned            Vegetables     24.00    6.00      2.0    0.0   0.00    4.0\n",
      "95                           Mustard greens            Vegetables     40.80   10.20      3.0    0.0   1.20    6.0\n",
      "96                                     Okra            Vegetables     36.00    9.00      1.0    0.0   1.00    7.0\n",
      "97                                   Onions            Vegetables     86.40   21.60      2.0    0.0   1.60   18.0\n",
      "98                               Raw, green            Vegetables     24.00    6.00      0.0    0.0   1.00    5.0\n",
      "99                                  Parsley            Vegetables      0.00    0.00      0.0    0.0   0.00    0.0\n",
      "100                                Parsnips            Vegetables    117.00   28.00      2.0    1.0   3.00   22.0\n",
      "101                                    Peas            Vegetables     64.40   16.10      3.0    0.0   0.10   13.0\n",
      "102                     Fresh, steamed peas            Vegetables     76.80   19.20      5.0    0.0   2.20   12.0\n",
      "103                             Frozen peas            Vegetables     75.20   18.80      5.0    0.0   1.80   12.0\n",
      "104                       Split cooked peas            Vegetables    117.60   29.40      8.0    0.0   0.40   21.0\n",
      "105                             heated peas            Vegetables     56.00   14.00      3.0    0.0   1.00   10.0\n",
      "106                          Peppers canned            Vegetables      8.00    2.00      0.0    0.0   0.00    2.0\n",
      "107               Peppers Raw, green, sweet            Vegetables     33.60    8.40      1.0    0.0   1.40    6.0\n",
      "108            Peppers with beef and crumbs            Vegetables    257.00   53.00     19.0    9.0   1.00   24.0\n",
      "109                         Potatoes, baked            Vegetables     98.00   24.50      2.0    0.0   0.50   22.0\n",
      "110                            French-fried            Vegetables    140.60   26.40      1.0    7.0   0.40   20.0\n",
      "111    Potatoes Mashed with milk and butter            Vegetables    238.80   44.70      4.0   12.0   0.70   28.0\n",
      "112                     Potatoes, pan-tried            Vegetables    275.60   51.40      4.0   14.0   0.40   33.0\n",
      "113          Scalloped with cheese potatoes            Vegetables    153.60   28.40      6.0    8.0   0.40   14.0\n",
      "114         Steamed potatoes before peeling            Vegetables     85.60   21.40      2.0    0.0   0.40   19.0\n",
      "115                            Potato chips            Vegetables    107.00   18.00      1.0    7.0   0.00   10.0\n",
      "116                                Radishes            Vegetables      9.20    2.30      0.0    0.0   0.30    2.0\n",
      "117                               Rutabagas            Vegetables     37.60    9.40      0.0    0.0   1.40    8.0\n",
      "118                                Soybeans            Vegetables    279.80   56.20     22.0   11.0   3.20   20.0\n",
      "119                                 Spinach            Vegetables     28.00    7.00      3.0    0.0   1.00    3.0\n",
      "120                                  Squash            Vegetables     38.40    9.60      1.0    0.0   0.60    8.0\n",
      "121                          Winter, mashed            Vegetables    118.40   29.60      4.0    0.0   2.60   23.0\n",
      "122                          Sweet potatoes            Vegetables    165.00   40.00      2.0    1.0   1.00   36.0\n",
      "123                                 Candied            Vegetables    388.00   89.50      2.0    6.0   1.50   80.0\n",
      "124                                Tomatoes            Vegetables     48.00   12.00      2.0    0.0   1.00    9.0\n",
      "125                            Tomato juice            Vegetables     50.40   12.60      2.0    0.0   0.60   10.0\n",
      "126                           Tomato catsup            Vegetables     16.00    4.00      0.0    0.0   0.00    4.0\n",
      "127                           Turnip greens            Vegetables     64.20   14.80      4.0    1.0   1.80    8.0\n",
      "128                        Turnips, steamed            Vegetables     47.20   11.80      1.0    0.0   1.80    9.0\n",
      "129                   Watercress stems, raw            Vegetables      9.20    2.30      1.0    0.0   0.30    1.0\n",
      "130                      Apple juice canned                 Fruit    136.00   34.00      0.0    0.0   0.00   34.0\n",
      "131                           Apple vinegar                Fruits     12.00    3.00      0.0    0.0   0.00    3.0\n",
      "132                             Apples, raw                Fruits     76.00   19.00      0.0    0.0   1.00   18.0\n",
      "133                        Stewed or canned                Fruits    112.00   28.00      0.0    0.0   2.00   26.0\n",
      "134                                Apricots                Fruits    240.00   60.00      2.0    0.0   1.00   57.0\n",
      "135                         Dried, uncooked                Fruits    220.00   55.00      4.0    0.0   1.00   50.0\n",
      "136                                   Fresh                Fruits     62.80   15.70      1.0    0.0   0.70   14.0\n",
      "137                        Nectar, or juice                Fruits    156.00   39.00      1.0    0.0   2.00   36.0\n",
      "138                                 Avocado                Fruits    201.20   27.80      2.0   18.0   1.80    6.0\n",
      "139                                  Banana                Fruits     99.60   24.90      1.0    0.0   0.90   23.0\n",
      "140                            Blackberries                Fruits    119.40   28.60      2.0    1.0   6.60   19.0\n",
      "141                             Blueberries                Fruits    272.00   68.00      1.0    0.0   2.00   65.0\n",
      "142                              Cantaloupe                Fruits     48.80   12.20      1.0    0.0   2.20    9.0\n",
      "143                                Cherries                Fruits    129.00   31.00      2.0    1.0   2.00   26.0\n",
      "144                     Fresh, raw cherries                Fruits     67.20   16.80      1.0    0.0   0.80   15.0\n",
      "145               Cranberry sauce sweetened                Fruits    572.80  143.20      0.0    0.0   1.20  142.0\n",
      "146                                   Dates                Fruits    566.40  141.60      4.0    0.0   3.60  134.0\n",
      "147                                    Figs                Fruits    135.60   33.90      2.0    0.0   1.90   30.0\n",
      "148                         Fresh, raw figs                Fruits    100.00   25.00      2.0    0.0   1.00   22.0\n",
      "149                 figs Canned with syrup                 Fruits    136.00   34.00      1.0    0.0   1.00   32.0\n",
      "150                  Fruit cocktail, canned                Fruits    206.00   51.50      1.0    0.0   0.50   50.0\n",
      "151                     Grapefruit sections                Fruits    182.00   45.50      1.0    0.0   0.50   44.0\n",
      "152          Grapefruit, fresh, 5\" diameter                Fruits     64.00   16.00      1.0    0.0   1.00   14.0\n",
      "153                        Grapefruit juice                Fruits    104.00   26.00      1.0    0.0   1.00   24.0\n",
      "154                                  Grapes                Fruits     71.20   17.80      1.0    0.0   0.80   16.0\n",
      "155              European, as Muscat, Tokay                Fruits    110.80   27.70      1.0    0.0   0.70   26.0\n",
      "156                             Grape juice                Fruits    172.00   43.00      1.0    0.0   0.00   42.0\n",
      "157                             Lemon juice                Fruits     40.00   10.00      0.0    0.0   0.00   10.0\n",
      "158              Lemonade concentratefrozen                Fruits    448.00  112.00      0.0    0.0   0.00  112.0\n",
      "159              Limeade concentrate frozen                Fruits    432.00  108.00      0.0    0.0   0.00  108.0\n",
      "160                            Olives large                Fruits    109.20   14.80      1.0   10.0   0.80    3.0\n",
      "161                              OlivesRipe                Fruits    129.00   16.00      1.0   13.0   1.00    1.0\n",
      "162                     Oranges 3\" diameter                Fruits     76.00   19.00      2.0    0.0   1.00   16.0\n",
      "163                            Orange juice                Fruits    108.80   27.20      2.0    0.0   0.20   25.0\n",
      "164                                 Frozen                 Fruits    321.60   80.40      2.0    0.0   0.40   78.0\n",
      "165                                  Papaya                Fruits     83.20   20.80      1.0    0.0   1.80   18.0\n",
      "166                                 Peaches                Fruits    216.00   54.00      1.0    0.0   1.00   52.0\n",
      "167                      Fresh, raw peaches                Fruits     46.40   11.60      1.0    0.0   0.60   10.0\n",
      "168                                   Pears                Fruits    212.00   53.00      1.0    0.0   2.00   50.0\n",
      "169                            Raw, 3 by 2V                Fruits    121.00   29.00      1.0    1.0   2.00   25.0\n",
      "170                              Persimmons                Fruits     92.00   23.00      1.0    0.0   2.00   20.0\n",
      "171                               Pineapple                Fruits    105.60   26.40      0.0    0.0   0.40   26.0\n",
      "172                       Pineapple Crushed                Fruits    226.80   56.70      1.0    0.0   0.70   55.0\n",
      "173                              Raw, diced                Fruits     82.40   20.60      1.0    0.0   0.60   19.0\n",
      "174                         Pineapple juice                Fruits    132.80   33.20      1.0    0.0   0.20   32.0\n",
      "175                                   Plums                Fruits    206.80   51.70      1.0    0.0   0.70   50.0\n",
      "176                        Raw, 2\" diameter                Fruits     28.80    7.20      0.0    0.0   0.20    7.0\n",
      "177                                  Prunes                Fruits    348.20   85.80      3.0    1.0   0.80   81.0\n",
      "178                             Prune juice                Fruits    186.80   46.70      1.0    0.0   0.70   45.0\n",
      "179                                 Raisins                Fruits    338.80   84.70      2.0    0.0   0.70   82.0\n",
      "180                             Raspberries                Fruits    108.00   27.00      0.0    0.0   2.00   25.0\n",
      "181                                Raw, red                Fruits     76.00   19.00      0.0    0.0   5.00   14.0\n",
      "182                       Rhubarb sweetened                Fruits    403.60  100.90      1.0    0.0   1.90   98.0\n",
      "183                            Strawberries                Fruits    249.20   62.30      1.0    0.0   1.30   60.0\n",
      "184                                     Raw                Fruits     55.60   13.90      0.0    0.0   1.90   12.0\n",
      "185                              Tangerines                Fruits     48.00   12.00      1.0    0.0   1.00   10.0\n",
      "186                              Watermelon                Fruits    147.40   35.60      2.0    1.0   3.60   29.0\n",
      "187                                   Clams               Seafood     65.00   15.00     12.0    1.0   0.00    2.0\n",
      "188                                     Cod               Seafood    157.00   33.00     28.0    5.0   0.00    0.0\n",
      "189                               Crab meat               Seafood     78.00   17.00     14.0    2.0   0.00    1.0\n",
      "190                                Flounder  insert_category_here    192.00   38.00     30.0    8.0   0.00    0.0\n",
      "191                                 Haddock               Seafood    133.00   27.00     16.0    5.0   0.00    6.0\n",
      "192                                 Halibut               Seafood    176.00   34.00     26.0    8.0   0.00    0.0\n",
      "193                                 Herring               Seafood    205.00   35.00     22.0   13.0   0.00    0.0\n",
      "194                                 Lobster               Seafood     81.00   19.00     18.0    1.0   0.00    0.0\n",
      "195                                Mackerel               Seafood    153.00   27.00     18.0    9.0   0.00    0.0\n",
      "196                             Oyster stew               Seafood    130.00   25.00     19.0    6.0   0.00    0.0\n",
      "197                                  Salmon               Seafood    113.00   22.00     17.0    5.0   0.00    0.0\n",
      "198                                Sardines               Seafood    169.00  331.00     22.0    9.0   0.00    0.0\n",
      "199                                Scallops               Seafood    184.00   36.00     18.0    8.0   0.00   10.0\n",
      "200                                    Shad               Seafood    170.00   30.00     20.0   10.0   0.00    0.0\n",
      "201                                  Shrimp               Seafood    101.00   24.00     23.0    1.0   0.00    0.0\n",
      "202                               Swordfish               Seafood    162.00   33.00     27.0    6.0   0.00    0.0\n",
      "203                                    Tuna               Seafood    163.00   32.00     25.0    7.0   0.00    0.0\n",
      "204                               Salt pork        Meat & Poultry    507.00   58.00      3.0   55.0   0.00    0.0\n",
      "205                                   Bacon        Meat & Poultry     92.00   13.00      4.0    8.0   0.00    1.0\n",
      "206                                    Beef        Meat & Poultry    236.00   39.00     23.0   16.0   0.00    0.0\n",
      "207                               Hamburger        Meat & Poultry    237.00   38.00     21.0   17.0   0.00    0.0\n",
      "208                             Ground lean        Meat & Poultry    186.00   34.00     24.0   10.0   0.00    0.0\n",
      "209                              Roast beef        Meat & Poultry    388.00   52.00     16.0   36.0   0.00    0.0\n",
      "210                                   Steak        Meat & Poultry    323.00   47.00     20.0   27.0   0.00    0.0\n",
      "211                   Steak, lean, as round        Meat & Poultry    204.00   36.00     24.0   12.0   0.00    0.0\n",
      "212                             Corned beef        Meat & Poultry    178.00   32.00     22.0   10.0   0.00    0.0\n",
      "213                 Corned beef hash canned        Meat & Poultry    144.00   26.00     12.0    8.0   0.00    6.0\n",
      "214                  Corned beef hash Dried        Meat & Poultry    112.00   23.00     19.0    4.0   0.00    0.0\n",
      "215                                 chicken        Meat & Poultry    173.00   32.00     23.0    9.0   0.00    0.0\n",
      "216  Fried, breast or leg and thigh chicken        Meat & Poultry    235.00   40.00     25.0   15.0   0.00    0.0\n",
      "217                         Roasted chicken        Meat & Poultry    280.00   45.00     25.0   20.0   0.00    0.0\n",
      "218                   Chicken livers, fried       Mreat & Poultry    223.20   38.30     22.0   14.0   0.00    2.3\n",
      "219                          Duck, domestic        Meat & Poultry    316.00   44.00     16.0   28.0   0.00    0.0\n",
      "220                     Lamb, chop, broiled        Meat & Poultry    411.00   59.00     24.0   35.0   0.00    0.0\n",
      "221                             Leg roasted        Meat & Poultry    206.00  304.00     20.0   14.0   0.00    0.0\n",
      "222                       Shoulder, braised        Meat & Poultry    279.00   41.00     18.0   23.0   0.00    0.0\n",
      "223                     Pork, chop, 1 thick        Meat & Poultry    253.00   37.00     16.0   21.0   0.00    0.0\n",
      "224                         Ham pan-broiled        Meat & Poultry    242.00   38.00     16.0   22.0   0.00    0.0\n",
      "225                                     Ham        Meat & Poultry    169.00   26.00     13.0   13.0   0.00    0.0\n",
      "226                     Ham, canned, spiced        Meat & Poultry    162.00   23.00      8.0   14.0   0.00    1.0\n",
      "227                              Pork roast        Meat & Poultry    300.00   45.00     21.0   24.0   0.00    0.0\n",
      "228                            Pork sausage        Meat & Poultry    468.00   62.00     18.0   44.0   0.00    0.0\n",
      "229                                  Turkey        Meat & Poultry    243.00   42.00     27.0   15.0   0.00    0.0\n",
      "230                                    Veal        Meat & Poultry    173.00   32.00     23.0    9.0   0.00    0.0\n",
      "231                                   Roast        Meat & Poultry    178.00   27.00     13.0   14.0   0.00    0.0\n",
      "232                                Eggs raw                  Eggs    156.00   24.00     12.0   12.0   0.00    0.0\n",
      "233                 Eggs Scrambled or fried                  Eggs    200.00   30.00     13.0   16.0   0.00    1.0\n",
      "234                                   Yolks                  Eggs    114.00   16.00      6.0   10.0   0.00    0.0\n",
      "235                Hydrogenated cooking fat           Oils & Fats    900.00  100.00      0.0  100.0   0.00    0.0\n",
      "236                                    Lard           Oils & Fats    990.00  110.00      0.0  110.0   0.00    0.0\n",
      "237                     Margarine, 2 pat or           Oils & Fats     99.00   11.00      0.0   11.0   0.00    0.0\n",
      "238                                Corn oil           Oils & Fats    126.00   14.00      0.0   14.0   0.00    0.0\n",
      "239                               Olive oil            Oil & Fats    126.00   14.00      0.0   14.0   0.00    0.0\n",
      "240                      Safflower seed oil           Oils & Fats    126.00   14.00      0.0   14.0   0.00    0.0\n"
     ]
    }
   ],
   "source": [
    "print(food.to_string())"
   ]
  },
  {
   "cell_type": "code",
   "execution_count": 37,
   "id": "a8c14eff",
   "metadata": {},
   "outputs": [
    {
     "data": {
      "text/plain": [
       "Vegetables        70\n",
       "Fruits            57\n",
       "Meat & Poultry    28\n",
       "Grains            20\n",
       "Dairy             19\n",
       "Seafood           17\n",
       "Nuts              12\n",
       "Soup               9\n",
       "Oils & Fats        6\n",
       "Eggs               3\n",
       "Name: Food Type, dtype: int64"
      ]
     },
     "execution_count": 37,
     "metadata": {},
     "output_type": "execute_result"
    }
   ],
   "source": [
    "replacements={\n",
    "    \"Drairy\":\"Dairy\",\n",
    "    \"Fruit\":\"Fruits\",\n",
    "    \"Mreat & Poultry\":\"Meat & Poultry\",\n",
    "    \"Oil & Fats\":\"Oils & Fats\",\n",
    "    \"insert_category_here\":\"Seafood\"\n",
    "}\n",
    "food=food.replace(replacements)\n",
    "food[\"Food Type\"].value_counts()"
   ]
  },
  {
   "cell_type": "markdown",
   "id": "7aa4198f",
   "metadata": {},
   "source": [
    "# 8. Remove inconsistencies"
   ]
  },
  {
   "cell_type": "code",
   "execution_count": 38,
   "id": "349d9f39",
   "metadata": {},
   "outputs": [
    {
     "data": {
      "text/html": [
       "<div>\n",
       "<style scoped>\n",
       "    .dataframe tbody tr th:only-of-type {\n",
       "        vertical-align: middle;\n",
       "    }\n",
       "\n",
       "    .dataframe tbody tr th {\n",
       "        vertical-align: top;\n",
       "    }\n",
       "\n",
       "    .dataframe thead th {\n",
       "        text-align: right;\n",
       "    }\n",
       "</style>\n",
       "<table border=\"1\" class=\"dataframe\">\n",
       "  <thead>\n",
       "    <tr style=\"text-align: right;\">\n",
       "      <th></th>\n",
       "      <th>Food</th>\n",
       "      <th>Food Type</th>\n",
       "      <th>Calories</th>\n",
       "      <th>Grams</th>\n",
       "      <th>Protein</th>\n",
       "      <th>Fat</th>\n",
       "      <th>Fiber</th>\n",
       "      <th>Carbs</th>\n",
       "    </tr>\n",
       "  </thead>\n",
       "  <tbody>\n",
       "    <tr>\n",
       "      <th>110</th>\n",
       "      <td>French-fried</td>\n",
       "      <td>Vegetables</td>\n",
       "      <td>140.6</td>\n",
       "      <td>26.4</td>\n",
       "      <td>1.0</td>\n",
       "      <td>7.0</td>\n",
       "      <td>0.4</td>\n",
       "      <td>20.0</td>\n",
       "    </tr>\n",
       "    <tr>\n",
       "      <th>224</th>\n",
       "      <td>Ham pan-broiled</td>\n",
       "      <td>Meat &amp; Poultry</td>\n",
       "      <td>242.0</td>\n",
       "      <td>38.0</td>\n",
       "      <td>16.0</td>\n",
       "      <td>22.0</td>\n",
       "      <td>0.0</td>\n",
       "      <td>0.0</td>\n",
       "    </tr>\n",
       "  </tbody>\n",
       "</table>\n",
       "</div>"
      ],
      "text/plain": [
       "                Food       Food Type  Calories  Grams  Protein   Fat  Fiber  \\\n",
       "110     French-fried      Vegetables     140.6   26.4      1.0   7.0    0.4   \n",
       "224  Ham pan-broiled  Meat & Poultry     242.0   38.0     16.0  22.0    0.0   \n",
       "\n",
       "     Carbs  \n",
       "110   20.0  \n",
       "224    0.0  "
      ]
     },
     "execution_count": 38,
     "metadata": {},
     "output_type": "execute_result"
    }
   ],
   "source": [
    "incorrect_calories =(\n",
    "    (\n",
    "    round(food[\"Calories\"]-((food[\"Protein\"]+food[\"Fiber\"]+food[\"Carbs\"])*4)-(food[\"Fat\"]*9),1)\n",
    "    )\n",
    "    !=0\n",
    ")\n",
    "food[incorrect_calories]"
   ]
  },
  {
   "cell_type": "code",
   "execution_count": 39,
   "id": "389ba5dc",
   "metadata": {},
   "outputs": [],
   "source": [
    "food[\"Calories\"]=((food[\"Protein\"]+food[\"Fiber\"]+food[\"Carbs\"])*4)+(food[\"Fat\"]*9)"
   ]
  },
  {
   "cell_type": "code",
   "execution_count": 40,
   "id": "aaee5b74",
   "metadata": {},
   "outputs": [
    {
     "data": {
      "text/html": [
       "<div>\n",
       "<style scoped>\n",
       "    .dataframe tbody tr th:only-of-type {\n",
       "        vertical-align: middle;\n",
       "    }\n",
       "\n",
       "    .dataframe tbody tr th {\n",
       "        vertical-align: top;\n",
       "    }\n",
       "\n",
       "    .dataframe thead th {\n",
       "        text-align: right;\n",
       "    }\n",
       "</style>\n",
       "<table border=\"1\" class=\"dataframe\">\n",
       "  <thead>\n",
       "    <tr style=\"text-align: right;\">\n",
       "      <th></th>\n",
       "      <th>Food</th>\n",
       "      <th>Food Type</th>\n",
       "      <th>Calories</th>\n",
       "      <th>Grams</th>\n",
       "      <th>Protein</th>\n",
       "      <th>Fat</th>\n",
       "      <th>Fiber</th>\n",
       "      <th>Carbs</th>\n",
       "    </tr>\n",
       "  </thead>\n",
       "  <tbody>\n",
       "  </tbody>\n",
       "</table>\n",
       "</div>"
      ],
      "text/plain": [
       "Empty DataFrame\n",
       "Columns: [Food, Food Type, Calories, Grams, Protein, Fat, Fiber, Carbs]\n",
       "Index: []"
      ]
     },
     "execution_count": 40,
     "metadata": {},
     "output_type": "execute_result"
    }
   ],
   "source": [
    "incorrect_calories =(\n",
    "    (\n",
    "    round(food[\"Calories\"]-((food[\"Protein\"]+food[\"Fiber\"]+food[\"Carbs\"])*4)-(food[\"Fat\"]*9),1)\n",
    "    )\n",
    "    !=0\n",
    ")\n",
    "food[incorrect_calories]"
   ]
  },
  {
   "cell_type": "markdown",
   "id": "7fbf28fb",
   "metadata": {},
   "source": [
    "# 9. Output data in the required format"
   ]
  },
  {
   "cell_type": "code",
   "execution_count": 41,
   "id": "609235fb",
   "metadata": {},
   "outputs": [],
   "source": [
    "food.to_csv(\"cleaned_food.csv\")"
   ]
  }
 ],
 "metadata": {
  "kernelspec": {
   "display_name": "Python 3",
   "language": "python",
   "name": "python3"
  },
  "language_info": {
   "codemirror_mode": {
    "name": "ipython",
    "version": 3
   },
   "file_extension": ".py",
   "mimetype": "text/x-python",
   "name": "python",
   "nbconvert_exporter": "python",
   "pygments_lexer": "ipython3",
   "version": "3.8.8"
  }
 },
 "nbformat": 4,
 "nbformat_minor": 5
}
