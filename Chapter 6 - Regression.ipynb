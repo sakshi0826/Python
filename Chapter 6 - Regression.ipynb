{
 "cells": [
  {
   "cell_type": "code",
   "execution_count": 1,
   "metadata": {},
   "outputs": [
    {
     "data": {
      "text/html": [
       "<div>\n",
       "<style scoped>\n",
       "    .dataframe tbody tr th:only-of-type {\n",
       "        vertical-align: middle;\n",
       "    }\n",
       "\n",
       "    .dataframe tbody tr th {\n",
       "        vertical-align: top;\n",
       "    }\n",
       "\n",
       "    .dataframe thead th {\n",
       "        text-align: right;\n",
       "    }\n",
       "</style>\n",
       "<table border=\"1\" class=\"dataframe\">\n",
       "  <thead>\n",
       "    <tr style=\"text-align: right;\">\n",
       "      <th></th>\n",
       "      <th>TV</th>\n",
       "      <th>Radio</th>\n",
       "      <th>Social Media</th>\n",
       "      <th>Influencer</th>\n",
       "      <th>Sales</th>\n",
       "    </tr>\n",
       "  </thead>\n",
       "  <tbody>\n",
       "    <tr>\n",
       "      <th>0</th>\n",
       "      <td>33</td>\n",
       "      <td>22.703382</td>\n",
       "      <td>2.302986</td>\n",
       "      <td>Mega</td>\n",
       "      <td>118.874049</td>\n",
       "    </tr>\n",
       "    <tr>\n",
       "      <th>1</th>\n",
       "      <td>91</td>\n",
       "      <td>28.080056</td>\n",
       "      <td>6.062589</td>\n",
       "      <td>Macro</td>\n",
       "      <td>322.373949</td>\n",
       "    </tr>\n",
       "    <tr>\n",
       "      <th>2</th>\n",
       "      <td>68</td>\n",
       "      <td>19.535548</td>\n",
       "      <td>2.056270</td>\n",
       "      <td>Micro</td>\n",
       "      <td>245.082818</td>\n",
       "    </tr>\n",
       "    <tr>\n",
       "      <th>3</th>\n",
       "      <td>52</td>\n",
       "      <td>13.560663</td>\n",
       "      <td>2.669573</td>\n",
       "      <td>Nano</td>\n",
       "      <td>187.774044</td>\n",
       "    </tr>\n",
       "    <tr>\n",
       "      <th>4</th>\n",
       "      <td>34</td>\n",
       "      <td>7.110267</td>\n",
       "      <td>3.588867</td>\n",
       "      <td>Mega</td>\n",
       "      <td>119.843771</td>\n",
       "    </tr>\n",
       "  </tbody>\n",
       "</table>\n",
       "</div>"
      ],
      "text/plain": [
       "   TV      Radio  Social Media Influencer       Sales\n",
       "0  33  22.703382      2.302986       Mega  118.874049\n",
       "1  91  28.080056      6.062589      Macro  322.373949\n",
       "2  68  19.535548      2.056270      Micro  245.082818\n",
       "3  52  13.560663      2.669573       Nano  187.774044\n",
       "4  34   7.110267      3.588867       Mega  119.843771"
      ]
     },
     "execution_count": 1,
     "metadata": {},
     "output_type": "execute_result"
    }
   ],
   "source": [
    "import pandas as pd\n",
    "marketing_dataset = pd.read_csv('marketing_data.csv')\n",
    "marketing_dataset.head()"
   ]
  },
  {
   "cell_type": "markdown",
   "metadata": {},
   "source": [
    "# Creating Dummy Variables"
   ]
  },
  {
   "cell_type": "code",
   "execution_count": 2,
   "metadata": {},
   "outputs": [
    {
     "data": {
      "text/plain": [
       "array(['Mega', 'Macro', 'Micro', 'Nano'], dtype=object)"
      ]
     },
     "execution_count": 2,
     "metadata": {},
     "output_type": "execute_result"
    }
   ],
   "source": [
    "marketing_dataset[\"Influencer\"].unique()"
   ]
  },
  {
   "cell_type": "code",
   "execution_count": 3,
   "metadata": {
    "scrolled": false
   },
   "outputs": [
    {
     "data": {
      "text/html": [
       "<div>\n",
       "<style scoped>\n",
       "    .dataframe tbody tr th:only-of-type {\n",
       "        vertical-align: middle;\n",
       "    }\n",
       "\n",
       "    .dataframe tbody tr th {\n",
       "        vertical-align: top;\n",
       "    }\n",
       "\n",
       "    .dataframe thead th {\n",
       "        text-align: right;\n",
       "    }\n",
       "</style>\n",
       "<table border=\"1\" class=\"dataframe\">\n",
       "  <thead>\n",
       "    <tr style=\"text-align: right;\">\n",
       "      <th></th>\n",
       "      <th>TV</th>\n",
       "      <th>Radio</th>\n",
       "      <th>Social Media</th>\n",
       "      <th>Sales</th>\n",
       "      <th>Influencer_Macro</th>\n",
       "      <th>Influencer_Mega</th>\n",
       "      <th>Influencer_Micro</th>\n",
       "      <th>Influencer_Nano</th>\n",
       "    </tr>\n",
       "  </thead>\n",
       "  <tbody>\n",
       "    <tr>\n",
       "      <th>0</th>\n",
       "      <td>33</td>\n",
       "      <td>22.703382</td>\n",
       "      <td>2.302986</td>\n",
       "      <td>118.874049</td>\n",
       "      <td>0</td>\n",
       "      <td>1</td>\n",
       "      <td>0</td>\n",
       "      <td>0</td>\n",
       "    </tr>\n",
       "    <tr>\n",
       "      <th>1</th>\n",
       "      <td>91</td>\n",
       "      <td>28.080056</td>\n",
       "      <td>6.062589</td>\n",
       "      <td>322.373949</td>\n",
       "      <td>1</td>\n",
       "      <td>0</td>\n",
       "      <td>0</td>\n",
       "      <td>0</td>\n",
       "    </tr>\n",
       "    <tr>\n",
       "      <th>2</th>\n",
       "      <td>68</td>\n",
       "      <td>19.535548</td>\n",
       "      <td>2.056270</td>\n",
       "      <td>245.082818</td>\n",
       "      <td>0</td>\n",
       "      <td>0</td>\n",
       "      <td>1</td>\n",
       "      <td>0</td>\n",
       "    </tr>\n",
       "    <tr>\n",
       "      <th>3</th>\n",
       "      <td>52</td>\n",
       "      <td>13.560663</td>\n",
       "      <td>2.669573</td>\n",
       "      <td>187.774044</td>\n",
       "      <td>0</td>\n",
       "      <td>0</td>\n",
       "      <td>0</td>\n",
       "      <td>1</td>\n",
       "    </tr>\n",
       "    <tr>\n",
       "      <th>4</th>\n",
       "      <td>34</td>\n",
       "      <td>7.110267</td>\n",
       "      <td>3.588867</td>\n",
       "      <td>119.843771</td>\n",
       "      <td>0</td>\n",
       "      <td>1</td>\n",
       "      <td>0</td>\n",
       "      <td>0</td>\n",
       "    </tr>\n",
       "  </tbody>\n",
       "</table>\n",
       "</div>"
      ],
      "text/plain": [
       "   TV      Radio  Social Media       Sales  Influencer_Macro  Influencer_Mega  \\\n",
       "0  33  22.703382      2.302986  118.874049                 0                1   \n",
       "1  91  28.080056      6.062589  322.373949                 1                0   \n",
       "2  68  19.535548      2.056270  245.082818                 0                0   \n",
       "3  52  13.560663      2.669573  187.774044                 0                0   \n",
       "4  34   7.110267      3.588867  119.843771                 0                1   \n",
       "\n",
       "   Influencer_Micro  Influencer_Nano  \n",
       "0                 0                0  \n",
       "1                 0                0  \n",
       "2                 1                0  \n",
       "3                 0                1  \n",
       "4                 0                0  "
      ]
     },
     "execution_count": 3,
     "metadata": {},
     "output_type": "execute_result"
    }
   ],
   "source": [
    "marketing_dataset=pd.get_dummies(marketing_dataset,columns=['Influencer'])\n",
    "marketing_dataset.head()"
   ]
  },
  {
   "cell_type": "code",
   "execution_count": 4,
   "metadata": {},
   "outputs": [],
   "source": [
    "response = marketing_dataset[\"Sales\"]\n",
    "predictors = marketing_dataset[[\"TV\",\"Radio\",\"Social Media\",\"Influencer_Macro\",\"Influencer_Mega\",\"Influencer_Micro\"]]"
   ]
  },
  {
   "cell_type": "markdown",
   "metadata": {},
   "source": [
    "# Exploring Variable Relationships"
   ]
  },
  {
   "cell_type": "code",
   "execution_count": 5,
   "metadata": {},
   "outputs": [
    {
     "data": {
      "image/png": "[encoded data removed]",
      "text/plain": [
       "<Figure size 432x288 with 2 Axes>"
      ]
     },
     "metadata": {
      "needs_background": "light"
     },
     "output_type": "display_data"
    }
   ],
   "source": [
    "import seaborn as sns\n",
    "\n",
    "correlation_matrix = marketing_dataset[[\"Sales\",\"TV\",\"Radio\",\"Social Media\"]].corr()\n",
    "sns.heatmap(correlation_matrix,vmin=0.0,vmax=1.0, annot=True);"
   ]
  },
  {
   "cell_type": "markdown",
   "metadata": {},
   "source": [
    "# Checking for Linear Relationships"
   ]
  },
  {
   "cell_type": "code",
   "execution_count": 6,
   "metadata": {},
   "outputs": [],
   "source": [
    "predictors = marketing_dataset[[\"TV\",\"Social Media\",\"Influencer_Macro\",\"Influencer_Mega\",\"Influencer_Micro\"]]"
   ]
  },
  {
   "cell_type": "markdown",
   "metadata": {},
   "source": [
    "# Regression with SciKitLearn"
   ]
  },
  {
   "cell_type": "code",
   "execution_count": 7,
   "metadata": {},
   "outputs": [
    {
     "name": "stdout",
     "output_type": "stream",
     "text": [
      "[3.56146333e+00 9.67134432e-04 7.41686520e-02 8.52722718e-02\n",
      " 1.62375309e-02]\n",
      "-0.17681395000818156\n"
     ]
    }
   ],
   "source": [
    "import sklearn.linear_model as skl\n",
    "\n",
    "# define the multiple Linear regression model\n",
    "linear_regression = skl.LinearRegression()\n",
    "\n",
    "# Fit the multiple Linear regression model\n",
    "linear_regression.fit(predictors,response)\n",
    "print(linear_regression.coef_)\n",
    "print(linear_regression.intercept_)"
   ]
  },
  {
   "cell_type": "code",
   "execution_count": 8,
   "metadata": {},
   "outputs": [
    {
     "name": "stdout",
     "output_type": "stream",
     "text": [
      "0.9989951392021675\n",
      "0.99899403252728\n"
     ]
    }
   ],
   "source": [
    "#R Squared\n",
    "r_squared=linear_regression.score(predictors, response)\n",
    "print(r_squared)\n",
    "\n",
    "#Adjusted R Squared\n",
    "#Formula=1-((1-r_squared)*(n-1)/(n-k-1))\n",
    "n=len(response)\n",
    "k=predictors.shape[1]\n",
    "\n",
    "adjusted_r_squared = 1-((1-r_squared)*(n-1)/(n-k-1))\n",
    "print(adjusted_r_squared)\n"
   ]
  },
  {
   "cell_type": "markdown",
   "metadata": {},
   "source": [
    "# Inspecting the Distribution of the Errors"
   ]
  },
  {
   "cell_type": "code",
   "execution_count": 9,
   "metadata": {},
   "outputs": [
    {
     "name": "stdout",
     "output_type": "stream",
     "text": [
      "0       1.435073\n",
      "1      -1.622432\n",
      "2       3.061899\n",
      "3       2.752183\n",
      "4      -1.157911\n",
      "          ...   \n",
      "4541   -5.553566\n",
      "4542    4.859783\n",
      "4543    0.047813\n",
      "4544   -0.689646\n",
      "4545    1.665595\n",
      "Name: Sales, Length: 4546, dtype: float64\n",
      "1.0084517666353204e-14\n",
      "2.9486871366140894\n"
     ]
    }
   ],
   "source": [
    "# predict with the data\n",
    "response_predictions = linear_regression.predict(predictors)\n",
    "residuals = response-response_predictions\n",
    "print(residuals)\n",
    "print(residuals.mean())\n",
    "print(residuals.std())"
   ]
  },
  {
   "cell_type": "code",
   "execution_count": 10,
   "metadata": {},
   "outputs": [
    {
     "data": {
      "image/png": "[encoded data removed]",
      "text/plain": [
       "<Figure size 432x288 with 1 Axes>"
      ]
     },
     "metadata": {
      "needs_background": "light"
     },
     "output_type": "display_data"
    }
   ],
   "source": [
    "import matplotlib.pyplot as plt\n",
    "\n",
    "plt.hist(residuals,bins=100)\n",
    "plt.show()"
   ]
  },
  {
   "cell_type": "markdown",
   "metadata": {},
   "source": [
    "# Inspecting the Consistency of the Errors"
   ]
  },
  {
   "cell_type": "code",
   "execution_count": 11,
   "metadata": {},
   "outputs": [
    {
     "data": {
      "image/png": "[encoded data removed]",
      "text/plain": [
       "<Figure size 432x288 with 1 Axes>"
      ]
     },
     "metadata": {
      "needs_background": "light"
     },
     "output_type": "display_data"
    }
   ],
   "source": [
    "plt.scatter(response_predictions,residuals)\n",
    "plt.title(\"Homoscedasticity \")\n",
    "plt.xlabel(\"Response Predictions\")\n",
    "plt.ylabel(\"Residuals\")\n",
    "plt.show()"
   ]
  }
 ],
 "metadata": {
  "kernelspec": {
   "display_name": "Python 3",
   "language": "python",
   "name": "python3"
  },
  "language_info": {
   "codemirror_mode": {
    "name": "ipython",
    "version": 3
   },
   "file_extension": ".py",
   "mimetype": "text/x-python",
   "name": "python",
   "nbconvert_exporter": "python",
   "pygments_lexer": "ipython3",
   "version": "3.8.8"
  }
 },
 "nbformat": 4,
 "nbformat_minor": 2
}
