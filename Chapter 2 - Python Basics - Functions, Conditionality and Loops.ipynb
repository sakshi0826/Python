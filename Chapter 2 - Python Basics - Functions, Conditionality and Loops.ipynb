{
 "cells": [
  {
   "cell_type": "markdown",
   "metadata": {},
   "source": [
    "# Essential Functions"
   ]
  },
  {
   "cell_type": "code",
   "execution_count": 1,
   "metadata": {},
   "outputs": [
    {
     "data": {
      "text/plain": [
       "84.14999999999999"
      ]
     },
     "execution_count": 1,
     "metadata": {},
     "output_type": "execute_result"
    }
   ],
   "source": [
    "561*0.15"
   ]
  },
  {
   "cell_type": "code",
   "execution_count": 2,
   "metadata": {},
   "outputs": [
    {
     "data": {
      "text/plain": [
       "84.15"
      ]
     },
     "execution_count": 2,
     "metadata": {},
     "output_type": "execute_result"
    }
   ],
   "source": [
    "round(561*0.15,2)"
   ]
  },
  {
   "cell_type": "code",
   "execution_count": 3,
   "metadata": {},
   "outputs": [
    {
     "name": "stdout",
     "output_type": "stream",
     "text": [
      "Help on built-in function round in module builtins:\n",
      "\n",
      "round(number, ndigits=None)\n",
      "    Round a number to a given precision in decimal digits.\n",
      "    \n",
      "    The return value is an integer if ndigits is omitted or None.  Otherwise\n",
      "    the return value has the same type as the number.  ndigits may be negative.\n",
      "\n"
     ]
    }
   ],
   "source": [
    "help(round)"
   ]
  },
  {
   "cell_type": "code",
   "execution_count": 4,
   "metadata": {},
   "outputs": [
    {
     "name": "stdout",
     "output_type": "stream",
     "text": [
      "What’s your favorite number? 6\n"
     ]
    }
   ],
   "source": [
    "favorite_number = input(\"What’s your favorite number? \")"
   ]
  },
  {
   "cell_type": "code",
   "execution_count": 5,
   "metadata": {},
   "outputs": [
    {
     "data": {
      "text/plain": [
       "'6'"
      ]
     },
     "execution_count": 5,
     "metadata": {},
     "output_type": "execute_result"
    }
   ],
   "source": [
    "favorite_number"
   ]
  },
  {
   "cell_type": "markdown",
   "metadata": {},
   "source": [
    "# Data Type Functions"
   ]
  },
  {
   "cell_type": "code",
   "execution_count": 6,
   "metadata": {},
   "outputs": [
    {
     "name": "stdout",
     "output_type": "stream",
     "text": [
      "What are your annual earnings? 7787478\n"
     ]
    }
   ],
   "source": [
    "salary=input(\"What are your annual earnings? \")"
   ]
  },
  {
   "cell_type": "code",
   "execution_count": 7,
   "metadata": {},
   "outputs": [
    {
     "data": {
      "text/plain": [
       "str"
      ]
     },
     "execution_count": 7,
     "metadata": {},
     "output_type": "execute_result"
    }
   ],
   "source": [
    "type(salary)"
   ]
  },
  {
   "cell_type": "code",
   "execution_count": 8,
   "metadata": {},
   "outputs": [
    {
     "data": {
      "text/plain": [
       "int"
      ]
     },
     "execution_count": 8,
     "metadata": {},
     "output_type": "execute_result"
    }
   ],
   "source": [
    "salary=int(salary)\n",
    "type(salary)"
   ]
  },
  {
   "cell_type": "code",
   "execution_count": 9,
   "metadata": {},
   "outputs": [
    {
     "name": "stdout",
     "output_type": "stream",
     "text": [
      "You paid $1557495.6 in tax this year.\n"
     ]
    }
   ],
   "source": [
    "tax_paid = salary*0.2\n",
    "print(\"You paid $\" + str(tax_paid) + \" in tax this year.\")"
   ]
  },
  {
   "cell_type": "markdown",
   "metadata": {},
   "source": [
    "# List Aggregation Functions After"
   ]
  },
  {
   "cell_type": "code",
   "execution_count": 10,
   "metadata": {},
   "outputs": [
    {
     "name": "stdout",
     "output_type": "stream",
     "text": [
      "24\n",
      "90\n",
      "10\n",
      "61.0\n"
     ]
    }
   ],
   "source": [
    "scores = [45,67,51,74,81,24,65,90,51,62]\n",
    "\n",
    "print(min(scores))\n",
    "print(max(scores))\n",
    "print(len(scores))\n",
    "\n",
    "print(sum(scores)/len(scores))"
   ]
  },
  {
   "cell_type": "markdown",
   "metadata": {},
   "source": [
    "# List Manipulation Functions After"
   ]
  },
  {
   "cell_type": "code",
   "execution_count": 11,
   "metadata": {},
   "outputs": [],
   "source": [
    "scores = [69,77,81,74,85,94,65,90,51,62]"
   ]
  },
  {
   "cell_type": "code",
   "execution_count": 12,
   "metadata": {},
   "outputs": [
    {
     "data": {
      "text/plain": [
       "[69, 77, 81, 74, 85, 94, 65, 90, 51, 62, 75]"
      ]
     },
     "execution_count": 12,
     "metadata": {},
     "output_type": "execute_result"
    }
   ],
   "source": [
    "scores.append(75)\n",
    "scores"
   ]
  },
  {
   "cell_type": "code",
   "execution_count": 13,
   "metadata": {},
   "outputs": [
    {
     "data": {
      "text/plain": [
       "[94, 90, 85, 81, 77, 75, 74, 69, 65, 62, 51]"
      ]
     },
     "execution_count": 13,
     "metadata": {},
     "output_type": "execute_result"
    }
   ],
   "source": [
    "scores.sort(reverse=True)\n",
    "scores"
   ]
  },
  {
   "cell_type": "code",
   "execution_count": 14,
   "metadata": {},
   "outputs": [
    {
     "data": {
      "text/plain": [
       "[94, 90, 85, 81, 77, 75, 74, 73, 69, 65, 62, 51]"
      ]
     },
     "execution_count": 14,
     "metadata": {},
     "output_type": "execute_result"
    }
   ],
   "source": [
    "scores.insert(7,73)\n",
    "scores"
   ]
  },
  {
   "cell_type": "code",
   "execution_count": 15,
   "metadata": {},
   "outputs": [
    {
     "data": {
      "text/plain": [
       "90"
      ]
     },
     "execution_count": 15,
     "metadata": {},
     "output_type": "execute_result"
    }
   ],
   "source": [
    "scores.pop(1)"
   ]
  },
  {
   "cell_type": "code",
   "execution_count": 16,
   "metadata": {
    "scrolled": true
   },
   "outputs": [
    {
     "data": {
      "text/plain": [
       "[94, 85, 81, 77, 75, 74, 73, 69, 65, 62, 51]"
      ]
     },
     "execution_count": 16,
     "metadata": {},
     "output_type": "execute_result"
    }
   ],
   "source": [
    "scores"
   ]
  },
  {
   "cell_type": "markdown",
   "metadata": {},
   "source": [
    "# Creating Custom Functions"
   ]
  },
  {
   "cell_type": "code",
   "execution_count": 17,
   "metadata": {},
   "outputs": [
    {
     "data": {
      "text/plain": [
       "722372.5399999999"
      ]
     },
     "execution_count": 17,
     "metadata": {},
     "output_type": "execute_result"
    }
   ],
   "source": [
    "liabilities=-425484.15\n",
    "equity=1147856.69\n",
    "\n",
    "assets=liabilities+equity\n",
    "assets"
   ]
  },
  {
   "cell_type": "code",
   "execution_count": 18,
   "metadata": {},
   "outputs": [],
   "source": [
    "def acc_equation(liabilities,equity):\n",
    "    assets=liabilities+equity\n",
    "    return assets"
   ]
  },
  {
   "cell_type": "code",
   "execution_count": 19,
   "metadata": {},
   "outputs": [
    {
     "data": {
      "text/plain": [
       "722372.5399999999"
      ]
     },
     "execution_count": 19,
     "metadata": {},
     "output_type": "execute_result"
    }
   ],
   "source": [
    "acc_equation(-425484.15,1147856.69)"
   ]
  },
  {
   "cell_type": "markdown",
   "metadata": {},
   "source": [
    "# Creating Custom Libraries"
   ]
  },
  {
   "cell_type": "code",
   "execution_count": null,
   "metadata": {},
   "outputs": [],
   "source": [
    "import accounting_functions as af\n",
    "\n",
    "af.net_income(100,10)"
   ]
  },
  {
   "cell_type": "markdown",
   "metadata": {},
   "source": [
    "# If Statements"
   ]
  },
  {
   "cell_type": "code",
   "execution_count": 21,
   "metadata": {},
   "outputs": [
    {
     "name": "stdout",
     "output_type": "stream",
     "text": [
      "What is your gross income? 757578\n",
      "You paid $358789.0 in tax.\n"
     ]
    }
   ],
   "source": [
    "lower_rate=.2\n",
    "middle_rate=.4\n",
    "highest_rate=0.5\n",
    "middle_cut_off=50000\n",
    "cut_off=100000\n",
    "salary=float(input(\"What is your gross income? \"))\n",
    "\n",
    "if salary<middle_cut_off:\n",
    "    print(\"You paid $\"+str(salary*lower_rate)+\" in tax.\")\n",
    "elif salary<cut_off:\n",
    "    print(\"You paid $\"+str((middle_cut_off*lower_rate)+((salary-middle_cut_off)*middle_rate))+\" in tax.\")\n",
    "else:\n",
    "    print(\"You paid $\"+\n",
    "          str((middle_cut_off*lower_rate)+((cut_off-middle_cut_off)*middle_rate)+((salary-cut_off)*highest_rate))+\n",
    "          \" in tax.\")"
   ]
  },
  {
   "cell_type": "markdown",
   "metadata": {},
   "source": [
    "# Conditional Operators"
   ]
  },
  {
   "cell_type": "code",
   "execution_count": 22,
   "metadata": {},
   "outputs": [
    {
     "name": "stdout",
     "output_type": "stream",
     "text": [
      "What is your gross income? 8794387943\n",
      "Are you a retiree? y/n y\n",
      "Are you self employed ? y/n y\n",
      "You paid $4397173971.5 in tax.\n"
     ]
    }
   ],
   "source": [
    "lower_rate=.2\n",
    "middle_rate=.4\n",
    "highest_rate=0.5\n",
    "middle_cut_off=50000\n",
    "cut_off=100000\n",
    "salary=float(input(\"What is your gross income? \"))\n",
    "retiree=input(\"Are you a retiree? y/n \")\n",
    "self_employed=input(\"Are you self employed ? y/n \")\n",
    "\n",
    "if salary<middle_cut_off:\n",
    "    print(\"You paid $\"+str(salary*lower_rate)+\" in tax.\")\n",
    "elif salary<cut_off and (retiree==\"y\" or self_employed==\"y\"):\n",
    "    print(\"You paid $\"+str(salary*lower_rate)+\" in tax.\")\n",
    "elif salary<cut_off:\n",
    "    print(\"You paid $\"+str((middle_cut_off*lower_rate)+((salary-middle_cut_off)*middle_rate))+\" in tax.\")\n",
    "else:\n",
    "    print(\"You paid $\"+\n",
    "          str((middle_cut_off*lower_rate)+((cut_off-middle_cut_off)*middle_rate)+((salary-cut_off)*highest_rate))+\n",
    "          \" in tax.\")"
   ]
  },
  {
   "cell_type": "markdown",
   "metadata": {},
   "source": [
    "# For Loops"
   ]
  },
  {
   "cell_type": "code",
   "execution_count": 23,
   "metadata": {},
   "outputs": [
    {
     "name": "stdout",
     "output_type": "stream",
     "text": [
      "You paid $40000.0 in tax.\n",
      "You paid $4600.0 in tax.\n",
      "You paid $9000.0 in tax.\n",
      "You paid $10400.0 in tax.\n",
      "You paid $4600.0 in tax.\n",
      "You paid $20400.0 in tax.\n",
      "You paid $7000.0 in tax.\n",
      "You paid $15600.0 in tax.\n",
      "You paid $6400.0 in tax.\n",
      "You paid $5000.0 in tax.\n"
     ]
    }
   ],
   "source": [
    "lower_rate=.2\n",
    "middle_rate=.4\n",
    "highest_rate=0.5\n",
    "middle_cut_off=50000\n",
    "cut_off=100000\n",
    "salaries_list  = [120000,23000,45000,51000,23000,76000,35000,64000,32000,25000]\n",
    "\n",
    "for salary in salaries_list :\n",
    "    if salary<middle_cut_off:\n",
    "        print(\"You paid $\"+str(salary*lower_rate)+\" in tax.\")\n",
    "    elif salary<cut_off:\n",
    "        print(\"You paid $\"+str((middle_cut_off*lower_rate)+((salary-middle_cut_off)*middle_rate))+\" in tax.\")\n",
    "    else:\n",
    "        print(\"You paid $\"+\n",
    "              str((middle_cut_off*lower_rate)+((cut_off-middle_cut_off)*middle_rate)+((salary-cut_off)*highest_rate))+\n",
    "              \" in tax.\")"
   ]
  },
  {
   "cell_type": "markdown",
   "metadata": {},
   "source": [
    "# While Loops"
   ]
  },
  {
   "cell_type": "code",
   "execution_count": 24,
   "metadata": {},
   "outputs": [
    {
     "name": "stdout",
     "output_type": "stream",
     "text": [
      "Year 1\n",
      "$10500.0\n",
      "\n",
      "Year 2\n",
      "$11025.0\n",
      "\n",
      "Year 3\n",
      "$11576.25\n",
      "\n",
      "Year 4\n",
      "$12155.06\n",
      "\n",
      "Year 5\n",
      "$12762.82\n",
      "\n",
      "Year 6\n",
      "$13400.96\n",
      "\n",
      "Year 7\n",
      "$14071.0\n",
      "\n",
      "Year 8\n",
      "$14774.55\n",
      "\n",
      "Year 9\n",
      "$15513.28\n",
      "\n",
      "Year 10\n",
      "$16288.95\n",
      "\n",
      "Year 11\n",
      "$17103.39\n",
      "\n",
      "Year 12\n",
      "$17958.56\n",
      "\n",
      "Year 13\n",
      "$18856.49\n",
      "\n",
      "Year 14\n",
      "$19799.32\n",
      "\n",
      "Year 15\n",
      "$20789.28\n",
      "\n",
      "Year 16\n",
      "$21828.75\n",
      "\n",
      "Year 17\n",
      "$22920.18\n",
      "\n",
      "Year 18\n",
      "$24066.19\n",
      "\n",
      "Year 19\n",
      "$25269.5\n",
      "\n",
      "Year 20\n",
      "$26532.98\n",
      "\n",
      "Year 21\n",
      "$27859.63\n",
      "\n",
      "Year 22\n",
      "$29252.61\n",
      "\n",
      "Year 23\n",
      "$30715.24\n",
      "\n",
      "Year 24\n",
      "$32251.0\n",
      "\n",
      "Year 25\n",
      "$33863.55\n",
      "\n",
      "Year 26\n",
      "$35556.73\n",
      "\n",
      "Year 27\n",
      "$37334.56\n",
      "\n",
      "Year 28\n",
      "$39201.29\n",
      "\n",
      "Year 29\n",
      "$41161.36\n",
      "\n",
      "Year 30\n",
      "$43219.42\n",
      "\n"
     ]
    }
   ],
   "source": [
    "principal=10000\n",
    "rate=0.05\n",
    "years=30\n",
    "current_year=1\n",
    "\n",
    "while current_year<=years:\n",
    "    investment_value=round(principal*(1+rate)**current_year,2)\n",
    "    print(\"Year \" + str(current_year))\n",
    "    print(\"$\" + str(investment_value))\n",
    "    print()\n",
    "    current_year+=1"
   ]
  }
 ],
 "metadata": {
  "kernelspec": {
   "display_name": "Python 3",
   "language": "python",
   "name": "python3"
  },
  "language_info": {
   "codemirror_mode": {
    "name": "ipython",
    "version": 3
   },
   "file_extension": ".py",
   "mimetype": "text/x-python",
   "name": "python",
   "nbconvert_exporter": "python",
   "pygments_lexer": "ipython3",
   "version": "3.8.8"
  }
 },
 "nbformat": 4,
 "nbformat_minor": 2
}
