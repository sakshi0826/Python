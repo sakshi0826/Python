{
 "cells": [
  {
   "cell_type": "markdown",
   "metadata": {},
   "source": [
    "# Basic Calculations in Python"
   ]
  },
  {
   "cell_type": "code",
   "execution_count": 1,
   "metadata": {},
   "outputs": [
    {
     "data": {
      "text/plain": [
       "24"
      ]
     },
     "execution_count": 1,
     "metadata": {},
     "output_type": "execute_result"
    }
   ],
   "source": [
    "5+3+7+9"
   ]
  },
  {
   "cell_type": "code",
   "execution_count": 2,
   "metadata": {},
   "outputs": [
    {
     "data": {
      "text/plain": [
       "1"
      ]
     },
     "execution_count": 2,
     "metadata": {},
     "output_type": "execute_result"
    }
   ],
   "source": [
    "12-3-7-1"
   ]
  },
  {
   "cell_type": "code",
   "execution_count": 3,
   "metadata": {},
   "outputs": [
    {
     "data": {
      "text/plain": [
       "56"
      ]
     },
     "execution_count": 3,
     "metadata": {},
     "output_type": "execute_result"
    }
   ],
   "source": [
    "7*8"
   ]
  },
  {
   "cell_type": "code",
   "execution_count": 4,
   "metadata": {},
   "outputs": [
    {
     "data": {
      "text/plain": [
       "13.75"
      ]
     },
     "execution_count": 4,
     "metadata": {},
     "output_type": "execute_result"
    }
   ],
   "source": [
    "55/4"
   ]
  },
  {
   "cell_type": "code",
   "execution_count": 5,
   "metadata": {},
   "outputs": [
    {
     "data": {
      "text/plain": [
       "13"
      ]
     },
     "execution_count": 5,
     "metadata": {},
     "output_type": "execute_result"
    }
   ],
   "source": [
    "55//4"
   ]
  },
  {
   "cell_type": "code",
   "execution_count": 6,
   "metadata": {},
   "outputs": [
    {
     "data": {
      "text/plain": [
       "3"
      ]
     },
     "execution_count": 6,
     "metadata": {},
     "output_type": "execute_result"
    }
   ],
   "source": [
    "55%4"
   ]
  },
  {
   "cell_type": "code",
   "execution_count": 7,
   "metadata": {},
   "outputs": [
    {
     "data": {
      "text/plain": [
       "5764801"
      ]
     },
     "execution_count": 7,
     "metadata": {},
     "output_type": "execute_result"
    }
   ],
   "source": [
    "7**8"
   ]
  },
  {
   "cell_type": "markdown",
   "metadata": {},
   "source": [
    "# Exploring Data Types"
   ]
  },
  {
   "cell_type": "code",
   "execution_count": 8,
   "metadata": {},
   "outputs": [
    {
     "data": {
      "text/plain": [
       "'String 1 and string 2.'"
      ]
     },
     "execution_count": 8,
     "metadata": {},
     "output_type": "execute_result"
    }
   ],
   "source": [
    "#Numeric\n",
    "123\n",
    "123.3\n",
    "\n",
    "#Boolean\n",
    "True\n",
    "False\n",
    "\n",
    "#String\n",
    "\"Python\"\n",
    "\"We're going to need a bigger boat\"\n",
    "'\"Knowledge is power\" - Francis Bacon'\n",
    "'String 1 and ' + 'string 2.'"
   ]
  },
  {
   "cell_type": "markdown",
   "metadata": {},
   "source": [
    "# Understanding the Print Function"
   ]
  },
  {
   "cell_type": "code",
   "execution_count": 9,
   "metadata": {},
   "outputs": [
    {
     "name": "stdout",
     "output_type": "stream",
     "text": [
      "123\n",
      "123.3\n",
      "\n",
      "True\n",
      "False\n",
      "\n",
      "Python\n",
      "We're going to need a bigger boat\n",
      "\"Knowledge is power\" - Francis Bacon\n",
      "String 1 and string 2.\n",
      "\n",
      "First line.\n",
      "\tSecond line.\n",
      "\t\tThird line.\n"
     ]
    }
   ],
   "source": [
    "#Numeric\n",
    "print(123)\n",
    "print(123.3)\n",
    "print()\n",
    "\n",
    "#Boolean\n",
    "print(True)\n",
    "print(False)\n",
    "print()\n",
    "\n",
    "#String\n",
    "print(\"Python\")\n",
    "print(\"We're going to need a bigger boat\")\n",
    "print('\"Knowledge is power\" - Francis Bacon')\n",
    "print('String 1 and ' + 'string 2.')\n",
    "print()\n",
    "print(\"First line.\\n\\tSecond line.\\n\\t\\tThird line.\")"
   ]
  },
  {
   "cell_type": "markdown",
   "metadata": {},
   "source": [
    "# Storing Information in Variables After"
   ]
  },
  {
   "cell_type": "code",
   "execution_count": 10,
   "metadata": {},
   "outputs": [],
   "source": [
    "my_first_variable = 57"
   ]
  },
  {
   "cell_type": "code",
   "execution_count": 11,
   "metadata": {},
   "outputs": [
    {
     "data": {
      "text/plain": [
       "57"
      ]
     },
     "execution_count": 11,
     "metadata": {},
     "output_type": "execute_result"
    }
   ],
   "source": [
    "my_first_variable"
   ]
  },
  {
   "cell_type": "code",
   "execution_count": 12,
   "metadata": {},
   "outputs": [
    {
     "data": {
      "text/plain": [
       "43"
      ]
     },
     "execution_count": 12,
     "metadata": {},
     "output_type": "execute_result"
    }
   ],
   "source": [
    "100-my_first_variable"
   ]
  },
  {
   "cell_type": "code",
   "execution_count": 13,
   "metadata": {
    "scrolled": true
   },
   "outputs": [
    {
     "name": "stdout",
     "output_type": "stream",
     "text": [
      "5 years:\n",
      "1276.2815625000003\n",
      "\n",
      "10 years:\n",
      "1628.894626777442\n",
      "\n",
      "15 years:\n",
      "2078.9281794113685\n",
      "\n",
      "20 years:\n",
      "2653.2977051444223\n",
      "\n",
      "25 years:\n",
      "3386.3549408993886\n"
     ]
    }
   ],
   "source": [
    "#Compound Interest after 5 years\n",
    "print('5 years:')\n",
    "print(1000*(1+0.05)**5)\n",
    "print()\n",
    "\n",
    "#Compound Interest after 10 years\n",
    "print('10 years:')\n",
    "print(1000*(1+0.05)**10)\n",
    "print()\n",
    "\n",
    "#Compound Interest after 15 years\n",
    "print('15 years:')\n",
    "print(1000*(1+0.05)**15)\n",
    "print()\n",
    "\n",
    "#Compound Interest after 20 years\n",
    "print('20 years:')\n",
    "print(1000*(1+0.05)**20)\n",
    "print()\n",
    "\n",
    "#Compound Interest after 25 years\n",
    "print('25 years:')\n",
    "print(1000*(1+0.05)**25)"
   ]
  },
  {
   "cell_type": "code",
   "execution_count": 14,
   "metadata": {},
   "outputs": [
    {
     "name": "stdout",
     "output_type": "stream",
     "text": [
      "5 years:\n",
      "12762.815625000003\n",
      "\n",
      "10 years:\n",
      "16288.94626777442\n",
      "\n",
      "15 years:\n",
      "20789.28179411369\n",
      "\n",
      "20 years:\n",
      "26532.97705144422\n",
      "\n",
      "25 years:\n",
      "33863.54940899389\n"
     ]
    }
   ],
   "source": [
    "principal=10000\n",
    "rate=0.05\n",
    "\n",
    "#Compound Interest after 5 years\n",
    "print('5 years:')\n",
    "print(principal*(1+rate)**5)\n",
    "print()\n",
    "\n",
    "#Compound Interest after 10 years\n",
    "print('10 years:')\n",
    "print(principal*(1+rate)**10)\n",
    "print()\n",
    "\n",
    "#Compound Interest after 15 years\n",
    "print('15 years:')\n",
    "print(principal*(1+rate)**15)\n",
    "print()\n",
    "\n",
    "#Compound Interest after 20 years\n",
    "print('20 years:')\n",
    "print(principal*(1+rate)**20)\n",
    "print()\n",
    "\n",
    "#Compound Interest after 25 years\n",
    "print('25 years:')\n",
    "print(principal*(1+rate)**25)"
   ]
  },
  {
   "cell_type": "markdown",
   "metadata": {},
   "source": [
    "# Storing Data in Lists"
   ]
  },
  {
   "cell_type": "code",
   "execution_count": 15,
   "metadata": {},
   "outputs": [],
   "source": [
    "jan_avg_temp = 11.6\n",
    "feb_avg_temp = 11.9\n",
    "mar_avg_temp = 13.8\n",
    "apr_avg_temp = 16.2\n",
    "may_avg_temp = 20.2\n",
    "jun_avg_temp = 24.3\n",
    "jul_avg_temp = 27.2\n",
    "aug_avg_temp = 27.7\n",
    "sep_avg_temp = 24.7\n",
    "oct_avg_temp = 21.1\n",
    "nov_avg_temp = 16.3\n",
    "dec_avg_temp = 12.8"
   ]
  },
  {
   "cell_type": "code",
   "execution_count": 16,
   "metadata": {},
   "outputs": [],
   "source": [
    "avg_temp = [11.6,11.9,13.8,\n",
    "            16.2,20.2,24.3,\n",
    "            27.2,27.7,24.7,\n",
    "            21.1,16.3,12.8]"
   ]
  },
  {
   "cell_type": "code",
   "execution_count": 17,
   "metadata": {},
   "outputs": [
    {
     "data": {
      "text/plain": [
       "[27.2, 27.7, 24.7, 21.1, 16.3, 12.8]"
      ]
     },
     "execution_count": 17,
     "metadata": {},
     "output_type": "execute_result"
    }
   ],
   "source": [
    "avg_temp[6:]"
   ]
  },
  {
   "cell_type": "markdown",
   "metadata": {},
   "source": [
    "# Storing Paired Values in Dictionaries"
   ]
  },
  {
   "cell_type": "code",
   "execution_count": 18,
   "metadata": {},
   "outputs": [],
   "source": [
    "jan_avg_temp = 11.6\n",
    "feb_avg_temp = 11.9\n",
    "mar_avg_temp = 13.8\n",
    "apr_avg_temp = 16.2\n",
    "may_avg_temp = 20.2\n",
    "jun_avg_temp = 24.3\n",
    "jul_avg_temp = 27.2\n",
    "aug_avg_temp = 27.7\n",
    "sep_avg_temp = 24.7\n",
    "oct_avg_temp = 21.1\n",
    "nov_avg_temp = 16.3\n",
    "dec_avg_temp = 12.8"
   ]
  },
  {
   "cell_type": "code",
   "execution_count": 19,
   "metadata": {},
   "outputs": [],
   "source": [
    "avg_temp = [11.6,11.9,13.8,\n",
    "            16.2,20.2,24.3,\n",
    "            27.2,27.7,24.7,\n",
    "            21.1,16.3,12.8]"
   ]
  },
  {
   "cell_type": "code",
   "execution_count": 20,
   "metadata": {},
   "outputs": [
    {
     "data": {
      "text/plain": [
       "[27.2, 27.7, 24.7, 21.1, 16.3, 12.8]"
      ]
     },
     "execution_count": 20,
     "metadata": {},
     "output_type": "execute_result"
    }
   ],
   "source": [
    "avg_temp[6:]"
   ]
  },
  {
   "cell_type": "code",
   "execution_count": 21,
   "metadata": {},
   "outputs": [],
   "source": [
    "tunis_temp = {'January':11.6,'February':11.9,'March':13.8,\n",
    "                 'April':16.2,'May':20.2,'June':24.3,\n",
    "                 'Juky':27.2,'August':27.7,'September':24.7,\n",
    "                 'October':21.1,'November':16.3,'December':12.8}"
   ]
  },
  {
   "cell_type": "code",
   "execution_count": 22,
   "metadata": {},
   "outputs": [
    {
     "data": {
      "text/plain": [
       "13.8"
      ]
     },
     "execution_count": 22,
     "metadata": {},
     "output_type": "execute_result"
    }
   ],
   "source": [
    "tunis_temp['March']"
   ]
  },
  {
   "cell_type": "code",
   "execution_count": 23,
   "metadata": {},
   "outputs": [
    {
     "data": {
      "text/plain": [
       "{'January': 11.6,\n",
       " 'February': 11.9,\n",
       " 'March': 13.8,\n",
       " 'April': 16.2,\n",
       " 'May': 20.2,\n",
       " 'June': 24.3,\n",
       " 'Juky': 27.2,\n",
       " 'August': 27.7,\n",
       " 'September': 24.7,\n",
       " 'October': 21.1,\n",
       " 'November': 16.3,\n",
       " 'December': 12.8,\n",
       " 'Annual': 19.0}"
      ]
     },
     "execution_count": 23,
     "metadata": {},
     "output_type": "execute_result"
    }
   ],
   "source": [
    "tunis_temp['Annual'] = 19.0\n",
    "tunis_temp"
   ]
  },
  {
   "cell_type": "code",
   "execution_count": 24,
   "metadata": {},
   "outputs": [
    {
     "data": {
      "text/plain": [
       "{'January': 11.6,\n",
       " 'February': 11.9,\n",
       " 'March': 13.8,\n",
       " 'April': 16.2,\n",
       " 'May': 20.2,\n",
       " 'June': 24.3,\n",
       " 'Juky': 27.2,\n",
       " 'August': 27.7,\n",
       " 'September': 24.7,\n",
       " 'October': 21.1,\n",
       " 'November': 16.3,\n",
       " 'December': 12.8}"
      ]
     },
     "execution_count": 24,
     "metadata": {},
     "output_type": "execute_result"
    }
   ],
   "source": [
    "del(tunis_temp['Annual'])\n",
    "tunis_temp"
   ]
  }
 ],
 "metadata": {
  "kernelspec": {
   "display_name": "Python 3",
   "language": "python",
   "name": "python3"
  },
  "language_info": {
   "codemirror_mode": {
    "name": "ipython",
    "version": 3
   },
   "file_extension": ".py",
   "mimetype": "text/x-python",
   "name": "python",
   "nbconvert_exporter": "python",
   "pygments_lexer": "ipython3",
   "version": "3.8.8"
  }
 },
 "nbformat": 4,
 "nbformat_minor": 2
}
